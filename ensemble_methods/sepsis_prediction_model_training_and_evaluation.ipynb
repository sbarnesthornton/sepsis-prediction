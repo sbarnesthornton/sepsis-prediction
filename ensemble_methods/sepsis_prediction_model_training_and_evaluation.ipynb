{
  "nbformat": 4,
  "nbformat_minor": 0,
  "metadata": {
    "colab": {
      "provenance": [],
      "authorship_tag": "ABX9TyOTETCOM75znBegaFMnzbsR",
      "include_colab_link": true
    },
    "kernelspec": {
      "name": "python3",
      "display_name": "Python 3"
    },
    "language_info": {
      "name": "python"
    },
    "accelerator": "GPU",
    "gpuClass": "standard"
  },
  "cells": [
    {
      "cell_type": "markdown",
      "metadata": {
        "id": "view-in-github",
        "colab_type": "text"
      },
      "source": [
        "<a href=\"https://colab.research.google.com/github/sbarnesthornton/sepsis-prediction/blob/main/ensemble_methods/sepsis_prediction_model_training_and_evaluation.ipynb\" target=\"_parent\"><img src=\"https://colab.research.google.com/assets/colab-badge.svg\" alt=\"Open In Colab\"/></a>"
      ]
    },
    {
      "cell_type": "code",
      "execution_count": null,
      "metadata": {
        "id": "fQYxpulVYI4o"
      },
      "outputs": [],
      "source": [
        "# Libraries\n",
        "import pandas as pd\n",
        "import numpy as np\n",
        "from google.colab import drive\n",
        "import seaborn as sns \n",
        "import matplotlib.pyplot as plt # matplotlib for plotting graphs\n",
        "\n",
        "# %matplotlib inline renders plot inline on your page\n",
        "%matplotlib inline"
      ]
    },
    {
      "cell_type": "code",
      "source": [
        "# mount drive\n",
        "drive.mount('/content/drive')"
      ],
      "metadata": {
        "id": "bFtKi1USYNgt",
        "colab": {
          "base_uri": "https://localhost:8080/"
        },
        "outputId": "e85f6ff3-199d-490e-bf8b-da1fcf4ae83b"
      },
      "execution_count": null,
      "outputs": [
        {
          "output_type": "stream",
          "name": "stdout",
          "text": [
            "Mounted at /content/drive\n"
          ]
        }
      ]
    },
    {
      "cell_type": "code",
      "source": [
        "# full multivariate imputation with interpolation + all additional features\n",
        "train_set = pd.read_csv('/content/drive/MyDrive/sepsis-prediction/multivariate-with-features/temp_train_data.csv')\n",
        "val_set = pd.read_csv('/content/drive/MyDrive/sepsis-prediction/multivariate-with-features/temp_val_data.csv')\n",
        "test_set = pd.read_csv('/content/drive/MyDrive/sepsis-prediction/multivariate-with-features/temp_test_data.csv')\n",
        "train_set = train_set.drop('dPatient_ID', axis=1)"
      ],
      "metadata": {
        "id": "FihIHIlXYuR-"
      },
      "execution_count": null,
      "outputs": []
    },
    {
      "cell_type": "code",
      "source": [
        "# class rebalancing function\n",
        "\n",
        "def class_balancer(df):\n",
        "  # Group dataframe by patient ID\n",
        "  grouped_df = df.groupby('Patient_ID')\n",
        "  # Check if all sepsis label values for each patient are 1\n",
        "  admitted_with_sepsis = grouped_df['SepsisLabel'].all()\n",
        "  # Dataframe of patients who are admitted with sepsis\n",
        "  admitted_with_sepsis_df = df[df['Patient_ID'].isin(admitted_with_sepsis[admitted_with_sepsis].index)]\n",
        "  # list of patients admitted with sepsis\n",
        "  admitted_with_sepsis_list = admitted_with_sepsis_df.Patient_ID.unique()\n",
        "  # list of patients who have sepsis\n",
        "  septic_patients_list =df['Patient_ID'][df['SepsisLabel']==1].unique()\n",
        "  # dataframe of septic patients\n",
        "  septic_df  = df[df.Patient_ID.isin(septic_patients_list)]\n",
        "  mask = ~septic_df['Patient_ID'].isin(admitted_with_sepsis_list)\n",
        "  developed_sepsis_df = septic_df[mask]\n",
        "  # only get septic data and the 10 hours before this from the patients who developed sepsis\n",
        "  result = pd.DataFrame(columns=developed_sepsis_df.columns)\n",
        "  for patient_id, group in developed_sepsis_df.groupby('Patient_ID'):\n",
        "    # find the index of the first row where SepsisLabel is 1\n",
        "    sepsis_index = group.index[group['SepsisLabel'] == 1]\n",
        "    # select the rows for this patient, starting 10 rows before sepsis_index\n",
        "    start_index = max(sepsis_index.min() - 10, 0)\n",
        "    end_index = sepsis_index.max()\n",
        "    selected_rows = group.loc[start_index:]\n",
        "    \n",
        "    result = pd.concat([result, selected_rows], axis=0)\n",
        "    \n",
        "  # never get sepsis patients\n",
        "  num_of_zeros = result.shape[0] + admitted_with_sepsis_df.shape[0]\n",
        "  nosepsis = df[~df['Patient_ID'].isin(septic_patients_list)].sample(n=num_of_zeros)\n",
        "  hours_before_count = result.SepsisLabel.value_counts()[0]\n",
        "  return pd.concat([admitted_with_sepsis_df, result, nosepsis]).reset_index(drop=True)\n"
      ],
      "metadata": {
        "id": "mt58nzE4ZVN5"
      },
      "execution_count": null,
      "outputs": []
    },
    {
      "cell_type": "code",
      "source": [
        "def test_case(df):\n",
        "  septic_patients_list =df['Patient_ID'][df['SepsisLabel']==1].unique()\n",
        "  return df[~df['Patient_ID'].isin(septic_patients_list)].sample(n=1000)"
      ],
      "metadata": {
        "id": "wgceFp_n54_B"
      },
      "execution_count": null,
      "outputs": []
    },
    {
      "cell_type": "code",
      "source": [
        "train_set = class_balancer(train_set)"
      ],
      "metadata": {
        "id": "PUaer7I3zttK"
      },
      "execution_count": null,
      "outputs": []
    },
    {
      "cell_type": "code",
      "source": [
        "train_set.SepsisLabel.value_counts()"
      ],
      "metadata": {
        "colab": {
          "base_uri": "https://localhost:8080/"
        },
        "id": "14iFHai08HiM",
        "outputId": "be2d51e0-d9f9-4dd2-853f-fdffe0bf9469"
      },
      "execution_count": null,
      "outputs": [
        {
          "output_type": "execute_result",
          "data": {
            "text/plain": [
              "0    47186\n",
              "1    19020\n",
              "Name: SepsisLabel, dtype: int64"
            ]
          },
          "metadata": {},
          "execution_count": 6
        }
      ]
    },
    {
      "cell_type": "code",
      "source": [
        "train_y = train_set['SepsisLabel']\n",
        "train_X = train_set.drop('SepsisLabel', axis = 1)"
      ],
      "metadata": {
        "id": "IVEVtM2LfvQC"
      },
      "execution_count": null,
      "outputs": []
    },
    {
      "cell_type": "code",
      "source": [
        "# fill the final nans\n",
        "train_X = train_X.fillna(-1000)"
      ],
      "metadata": {
        "id": "EN2Yhzil3JBJ"
      },
      "execution_count": null,
      "outputs": []
    },
    {
      "cell_type": "code",
      "source": [
        "train_set.shape"
      ],
      "metadata": {
        "colab": {
          "base_uri": "https://localhost:8080/"
        },
        "id": "Gnsv5EyA8cEl",
        "outputId": "a8d615e1-d2a6-4c88-be44-c330c7153435"
      },
      "execution_count": null,
      "outputs": [
        {
          "output_type": "execute_result",
          "data": {
            "text/plain": [
              "(66206, 316)"
            ]
          },
          "metadata": {},
          "execution_count": 9
        }
      ]
    },
    {
      "cell_type": "code",
      "source": [
        "val_set.shape"
      ],
      "metadata": {
        "colab": {
          "base_uri": "https://localhost:8080/"
        },
        "id": "1TWnOmZnkrNf",
        "outputId": "0b9b8939-b020-48af-85eb-8be637d17fc7"
      },
      "execution_count": null,
      "outputs": [
        {
          "output_type": "execute_result",
          "data": {
            "text/plain": [
              "(377290, 316)"
            ]
          },
          "metadata": {},
          "execution_count": 10
        }
      ]
    },
    {
      "cell_type": "code",
      "source": [
        "# Random forsest classifier\n",
        "from sklearn.ensemble import RandomForestClassifier\n",
        "from sklearn.metrics import accuracy_score, f1_score, classification_report\n",
        "from sklearn.model_selection import train_test_split\n",
        "\n",
        "# optimised model\n",
        "clf = RandomForestClassifier(max_depth=5,min_samples_split=6,min_samples_leaf=7,n_estimators = 1700)\n",
        "\n",
        "# test specimin\n",
        "#clf = RandomForestClassifier(max_depth=6,min_samples_split=2,min_samples_leaf=3,n_estimators = 1800)\n",
        "\n",
        "# fit model\n",
        "clf.fit(train_X, train_y.astype('int'))\n"
      ],
      "metadata": {
        "colab": {
          "base_uri": "https://localhost:8080/",
          "height": 91
        },
        "id": "ydQx3prQ28B4",
        "outputId": "ba1394c6-27ac-40c8-f6ef-dfc7f1e1fa7a"
      },
      "execution_count": null,
      "outputs": [
        {
          "output_type": "execute_result",
          "data": {
            "text/plain": [
              "RandomForestClassifier(max_depth=5, min_samples_leaf=7, min_samples_split=6,\n",
              "                       n_estimators=1700)"
            ],
            "text/html": [
              "<style>#sk-container-id-1 {color: black;background-color: white;}#sk-container-id-1 pre{padding: 0;}#sk-container-id-1 div.sk-toggleable {background-color: white;}#sk-container-id-1 label.sk-toggleable__label {cursor: pointer;display: block;width: 100%;margin-bottom: 0;padding: 0.3em;box-sizing: border-box;text-align: center;}#sk-container-id-1 label.sk-toggleable__label-arrow:before {content: \"▸\";float: left;margin-right: 0.25em;color: #696969;}#sk-container-id-1 label.sk-toggleable__label-arrow:hover:before {color: black;}#sk-container-id-1 div.sk-estimator:hover label.sk-toggleable__label-arrow:before {color: black;}#sk-container-id-1 div.sk-toggleable__content {max-height: 0;max-width: 0;overflow: hidden;text-align: left;background-color: #f0f8ff;}#sk-container-id-1 div.sk-toggleable__content pre {margin: 0.2em;color: black;border-radius: 0.25em;background-color: #f0f8ff;}#sk-container-id-1 input.sk-toggleable__control:checked~div.sk-toggleable__content {max-height: 200px;max-width: 100%;overflow: auto;}#sk-container-id-1 input.sk-toggleable__control:checked~label.sk-toggleable__label-arrow:before {content: \"▾\";}#sk-container-id-1 div.sk-estimator input.sk-toggleable__control:checked~label.sk-toggleable__label {background-color: #d4ebff;}#sk-container-id-1 div.sk-label input.sk-toggleable__control:checked~label.sk-toggleable__label {background-color: #d4ebff;}#sk-container-id-1 input.sk-hidden--visually {border: 0;clip: rect(1px 1px 1px 1px);clip: rect(1px, 1px, 1px, 1px);height: 1px;margin: -1px;overflow: hidden;padding: 0;position: absolute;width: 1px;}#sk-container-id-1 div.sk-estimator {font-family: monospace;background-color: #f0f8ff;border: 1px dotted black;border-radius: 0.25em;box-sizing: border-box;margin-bottom: 0.5em;}#sk-container-id-1 div.sk-estimator:hover {background-color: #d4ebff;}#sk-container-id-1 div.sk-parallel-item::after {content: \"\";width: 100%;border-bottom: 1px solid gray;flex-grow: 1;}#sk-container-id-1 div.sk-label:hover label.sk-toggleable__label {background-color: #d4ebff;}#sk-container-id-1 div.sk-serial::before {content: \"\";position: absolute;border-left: 1px solid gray;box-sizing: border-box;top: 0;bottom: 0;left: 50%;z-index: 0;}#sk-container-id-1 div.sk-serial {display: flex;flex-direction: column;align-items: center;background-color: white;padding-right: 0.2em;padding-left: 0.2em;position: relative;}#sk-container-id-1 div.sk-item {position: relative;z-index: 1;}#sk-container-id-1 div.sk-parallel {display: flex;align-items: stretch;justify-content: center;background-color: white;position: relative;}#sk-container-id-1 div.sk-item::before, #sk-container-id-1 div.sk-parallel-item::before {content: \"\";position: absolute;border-left: 1px solid gray;box-sizing: border-box;top: 0;bottom: 0;left: 50%;z-index: -1;}#sk-container-id-1 div.sk-parallel-item {display: flex;flex-direction: column;z-index: 1;position: relative;background-color: white;}#sk-container-id-1 div.sk-parallel-item:first-child::after {align-self: flex-end;width: 50%;}#sk-container-id-1 div.sk-parallel-item:last-child::after {align-self: flex-start;width: 50%;}#sk-container-id-1 div.sk-parallel-item:only-child::after {width: 0;}#sk-container-id-1 div.sk-dashed-wrapped {border: 1px dashed gray;margin: 0 0.4em 0.5em 0.4em;box-sizing: border-box;padding-bottom: 0.4em;background-color: white;}#sk-container-id-1 div.sk-label label {font-family: monospace;font-weight: bold;display: inline-block;line-height: 1.2em;}#sk-container-id-1 div.sk-label-container {text-align: center;}#sk-container-id-1 div.sk-container {/* jupyter's `normalize.less` sets `[hidden] { display: none; }` but bootstrap.min.css set `[hidden] { display: none !important; }` so we also need the `!important` here to be able to override the default hidden behavior on the sphinx rendered scikit-learn.org. See: https://github.com/scikit-learn/scikit-learn/issues/21755 */display: inline-block !important;position: relative;}#sk-container-id-1 div.sk-text-repr-fallback {display: none;}</style><div id=\"sk-container-id-1\" class=\"sk-top-container\"><div class=\"sk-text-repr-fallback\"><pre>RandomForestClassifier(max_depth=5, min_samples_leaf=7, min_samples_split=6,\n",
              "                       n_estimators=1700)</pre><b>In a Jupyter environment, please rerun this cell to show the HTML representation or trust the notebook. <br />On GitHub, the HTML representation is unable to render, please try loading this page with nbviewer.org.</b></div><div class=\"sk-container\" hidden><div class=\"sk-item\"><div class=\"sk-estimator sk-toggleable\"><input class=\"sk-toggleable__control sk-hidden--visually\" id=\"sk-estimator-id-1\" type=\"checkbox\" checked><label for=\"sk-estimator-id-1\" class=\"sk-toggleable__label sk-toggleable__label-arrow\">RandomForestClassifier</label><div class=\"sk-toggleable__content\"><pre>RandomForestClassifier(max_depth=5, min_samples_leaf=7, min_samples_split=6,\n",
              "                       n_estimators=1700)</pre></div></div></div></div></div>"
            ]
          },
          "metadata": {},
          "execution_count": 11
        }
      ]
    },
    {
      "cell_type": "code",
      "source": [
        "# XGBoost \n",
        "import xgboost as xgb\n",
        "# optimised hyperparameters\n",
        "#|   iter    |  target   | colsam... |   gamma   | learni... | max_depth | n_esti... |\n",
        "#| 9         | -0.6185   | 0.7       | 0.5       | 0.03      | 6.896     | 125.2     |\n",
        "# valset \n",
        "model =  xgb.XGBClassifier(objective=\"binary:logistic\", \n",
        "                            n_estimators = 125,\n",
        "                            colsample_bytree = 0.7,\n",
        "                            max_depth = 7,\n",
        "                            gamma = 0.5,\n",
        "                            learning_rate = 0.03,\n",
        "                            random_state=42)\n",
        "model.fit(train_X, train_y.astype('int'))"
      ],
      "metadata": {
        "colab": {
          "base_uri": "https://localhost:8080/",
          "height": 248
        },
        "id": "iIuRL2U1YE5h",
        "outputId": "3b97d94d-a442-404e-ab96-66e880f9a1fb"
      },
      "execution_count": null,
      "outputs": [
        {
          "output_type": "execute_result",
          "data": {
            "text/plain": [
              "XGBClassifier(base_score=None, booster=None, callbacks=None,\n",
              "              colsample_bylevel=None, colsample_bynode=None,\n",
              "              colsample_bytree=0.7, early_stopping_rounds=None,\n",
              "              enable_categorical=False, eval_metric=None, feature_types=None,\n",
              "              gamma=0.5, gpu_id=None, grow_policy=None, importance_type=None,\n",
              "              interaction_constraints=None, learning_rate=0.03, max_bin=None,\n",
              "              max_cat_threshold=None, max_cat_to_onehot=None,\n",
              "              max_delta_step=None, max_depth=7, max_leaves=None,\n",
              "              min_child_weight=None, missing=nan, monotone_constraints=None,\n",
              "              n_estimators=125, n_jobs=None, num_parallel_tree=None,\n",
              "              predictor=None, random_state=42, ...)"
            ],
            "text/html": [
              "<style>#sk-container-id-2 {color: black;background-color: white;}#sk-container-id-2 pre{padding: 0;}#sk-container-id-2 div.sk-toggleable {background-color: white;}#sk-container-id-2 label.sk-toggleable__label {cursor: pointer;display: block;width: 100%;margin-bottom: 0;padding: 0.3em;box-sizing: border-box;text-align: center;}#sk-container-id-2 label.sk-toggleable__label-arrow:before {content: \"▸\";float: left;margin-right: 0.25em;color: #696969;}#sk-container-id-2 label.sk-toggleable__label-arrow:hover:before {color: black;}#sk-container-id-2 div.sk-estimator:hover label.sk-toggleable__label-arrow:before {color: black;}#sk-container-id-2 div.sk-toggleable__content {max-height: 0;max-width: 0;overflow: hidden;text-align: left;background-color: #f0f8ff;}#sk-container-id-2 div.sk-toggleable__content pre {margin: 0.2em;color: black;border-radius: 0.25em;background-color: #f0f8ff;}#sk-container-id-2 input.sk-toggleable__control:checked~div.sk-toggleable__content {max-height: 200px;max-width: 100%;overflow: auto;}#sk-container-id-2 input.sk-toggleable__control:checked~label.sk-toggleable__label-arrow:before {content: \"▾\";}#sk-container-id-2 div.sk-estimator input.sk-toggleable__control:checked~label.sk-toggleable__label {background-color: #d4ebff;}#sk-container-id-2 div.sk-label input.sk-toggleable__control:checked~label.sk-toggleable__label {background-color: #d4ebff;}#sk-container-id-2 input.sk-hidden--visually {border: 0;clip: rect(1px 1px 1px 1px);clip: rect(1px, 1px, 1px, 1px);height: 1px;margin: -1px;overflow: hidden;padding: 0;position: absolute;width: 1px;}#sk-container-id-2 div.sk-estimator {font-family: monospace;background-color: #f0f8ff;border: 1px dotted black;border-radius: 0.25em;box-sizing: border-box;margin-bottom: 0.5em;}#sk-container-id-2 div.sk-estimator:hover {background-color: #d4ebff;}#sk-container-id-2 div.sk-parallel-item::after {content: \"\";width: 100%;border-bottom: 1px solid gray;flex-grow: 1;}#sk-container-id-2 div.sk-label:hover label.sk-toggleable__label {background-color: #d4ebff;}#sk-container-id-2 div.sk-serial::before {content: \"\";position: absolute;border-left: 1px solid gray;box-sizing: border-box;top: 0;bottom: 0;left: 50%;z-index: 0;}#sk-container-id-2 div.sk-serial {display: flex;flex-direction: column;align-items: center;background-color: white;padding-right: 0.2em;padding-left: 0.2em;position: relative;}#sk-container-id-2 div.sk-item {position: relative;z-index: 1;}#sk-container-id-2 div.sk-parallel {display: flex;align-items: stretch;justify-content: center;background-color: white;position: relative;}#sk-container-id-2 div.sk-item::before, #sk-container-id-2 div.sk-parallel-item::before {content: \"\";position: absolute;border-left: 1px solid gray;box-sizing: border-box;top: 0;bottom: 0;left: 50%;z-index: -1;}#sk-container-id-2 div.sk-parallel-item {display: flex;flex-direction: column;z-index: 1;position: relative;background-color: white;}#sk-container-id-2 div.sk-parallel-item:first-child::after {align-self: flex-end;width: 50%;}#sk-container-id-2 div.sk-parallel-item:last-child::after {align-self: flex-start;width: 50%;}#sk-container-id-2 div.sk-parallel-item:only-child::after {width: 0;}#sk-container-id-2 div.sk-dashed-wrapped {border: 1px dashed gray;margin: 0 0.4em 0.5em 0.4em;box-sizing: border-box;padding-bottom: 0.4em;background-color: white;}#sk-container-id-2 div.sk-label label {font-family: monospace;font-weight: bold;display: inline-block;line-height: 1.2em;}#sk-container-id-2 div.sk-label-container {text-align: center;}#sk-container-id-2 div.sk-container {/* jupyter's `normalize.less` sets `[hidden] { display: none; }` but bootstrap.min.css set `[hidden] { display: none !important; }` so we also need the `!important` here to be able to override the default hidden behavior on the sphinx rendered scikit-learn.org. See: https://github.com/scikit-learn/scikit-learn/issues/21755 */display: inline-block !important;position: relative;}#sk-container-id-2 div.sk-text-repr-fallback {display: none;}</style><div id=\"sk-container-id-2\" class=\"sk-top-container\"><div class=\"sk-text-repr-fallback\"><pre>XGBClassifier(base_score=None, booster=None, callbacks=None,\n",
              "              colsample_bylevel=None, colsample_bynode=None,\n",
              "              colsample_bytree=0.7, early_stopping_rounds=None,\n",
              "              enable_categorical=False, eval_metric=None, feature_types=None,\n",
              "              gamma=0.5, gpu_id=None, grow_policy=None, importance_type=None,\n",
              "              interaction_constraints=None, learning_rate=0.03, max_bin=None,\n",
              "              max_cat_threshold=None, max_cat_to_onehot=None,\n",
              "              max_delta_step=None, max_depth=7, max_leaves=None,\n",
              "              min_child_weight=None, missing=nan, monotone_constraints=None,\n",
              "              n_estimators=125, n_jobs=None, num_parallel_tree=None,\n",
              "              predictor=None, random_state=42, ...)</pre><b>In a Jupyter environment, please rerun this cell to show the HTML representation or trust the notebook. <br />On GitHub, the HTML representation is unable to render, please try loading this page with nbviewer.org.</b></div><div class=\"sk-container\" hidden><div class=\"sk-item\"><div class=\"sk-estimator sk-toggleable\"><input class=\"sk-toggleable__control sk-hidden--visually\" id=\"sk-estimator-id-2\" type=\"checkbox\" checked><label for=\"sk-estimator-id-2\" class=\"sk-toggleable__label sk-toggleable__label-arrow\">XGBClassifier</label><div class=\"sk-toggleable__content\"><pre>XGBClassifier(base_score=None, booster=None, callbacks=None,\n",
              "              colsample_bylevel=None, colsample_bynode=None,\n",
              "              colsample_bytree=0.7, early_stopping_rounds=None,\n",
              "              enable_categorical=False, eval_metric=None, feature_types=None,\n",
              "              gamma=0.5, gpu_id=None, grow_policy=None, importance_type=None,\n",
              "              interaction_constraints=None, learning_rate=0.03, max_bin=None,\n",
              "              max_cat_threshold=None, max_cat_to_onehot=None,\n",
              "              max_delta_step=None, max_depth=7, max_leaves=None,\n",
              "              min_child_weight=None, missing=nan, monotone_constraints=None,\n",
              "              n_estimators=125, n_jobs=None, num_parallel_tree=None,\n",
              "              predictor=None, random_state=42, ...)</pre></div></div></div></div></div>"
            ]
          },
          "metadata": {},
          "execution_count": 12
        }
      ]
    },
    {
      "cell_type": "code",
      "source": [
        "test_y = test_set['SepsisLabel']\n",
        "test_X = test_set.drop('SepsisLabel', axis = 1)\n",
        "test_X = test_X.fillna(-1000)\n",
        "\n",
        "# predict model\n",
        "predictions = model.predict(test_X)\n",
        "\n",
        "# f1 score\n",
        "#f1score = f1_score(test_y.astype('int'), predictions,average=None)\n",
        "#print(f1score)"
      ],
      "metadata": {
        "id": "3JPsrUiS4Uy7"
      },
      "execution_count": null,
      "outputs": []
    },
    {
      "cell_type": "code",
      "source": [
        "from sklearn.metrics import accuracy_score, f1_score, classification_report, ConfusionMatrixDisplay, confusion_matrix\n",
        "\n",
        "#CM = confusion_matrix(test_y.astype('int'), predictions, labels=clf.classes_)\n",
        "ConfusionMatrixDisplay.from_predictions(test_y.astype('int'), predictions, display_labels=['No Sepsis','Sepsis'], cmap='Blues')\n",
        "plt.show()"
      ],
      "metadata": {
        "colab": {
          "base_uri": "https://localhost:8080/",
          "height": 449
        },
        "id": "x6ggbAhD3iaA",
        "outputId": "6f100d71-04af-400b-9322-724c4c4ea786"
      },
      "execution_count": null,
      "outputs": [
        {
          "output_type": "display_data",
          "data": {
            "text/plain": [
              "<Figure size 640x480 with 2 Axes>"
            ],
            "image/png": "[encoded data removed]"
          },
          "metadata": {}
        }
      ]
    },
    {
      "cell_type": "code",
      "source": [
        "from sklearn.metrics import roc_auc_score\n",
        "#roc_auc_score(test_y.astype('int'), model.predict_proba(test_X)[:, 1])\n",
        "roc_auc_score(LSTM_actual.astype('int'), LSTM_prob)"
      ],
      "metadata": {
        "colab": {
          "base_uri": "https://localhost:8080/"
        },
        "id": "a16Z7R1tFNzM",
        "outputId": "d4eb9cd0-fb2e-4e03-a9c9-05924867869c"
      },
      "execution_count": null,
      "outputs": [
        {
          "output_type": "execute_result",
          "data": {
            "text/plain": [
              "0.5710993958601802"
            ]
          },
          "metadata": {},
          "execution_count": 27
        }
      ]
    },
    {
      "cell_type": "code",
      "source": [
        "# LSTM Predictions and labels for evaluation\n",
        "LSTM = pd.read_csv('/content/drive/MyDrive/sepsis-prediction/probs (1).csv')"
      ],
      "metadata": {
        "id": "uLB2FPc6jd9E"
      },
      "execution_count": null,
      "outputs": []
    },
    {
      "cell_type": "code",
      "source": [
        "LSTM.head()"
      ],
      "metadata": {
        "colab": {
          "base_uri": "https://localhost:8080/",
          "height": 206
        },
        "id": "qES_kzBQwLWC",
        "outputId": "42027796-0e9e-4644-f079-be6b74a25c5f"
      },
      "execution_count": null,
      "outputs": [
        {
          "output_type": "execute_result",
          "data": {
            "text/plain": [
              "      logit  ground_truth  patient_id\n",
              "0  0.205320           0.0    120563.0\n",
              "1  0.213001           0.0    120563.0\n",
              "2  0.224025           0.0    120563.0\n",
              "3  0.244939           0.0    120563.0\n",
              "4  0.270695           0.0    120563.0"
            ],
            "text/html": [
              "\n",
              "  <div id=\"df-a67df09c-fc13-42fd-8128-6fe3658fd458\">\n",
              "    <div class=\"colab-df-container\">\n",
              "      <div>\n",
              "<style scoped>\n",
              "    .dataframe tbody tr th:only-of-type {\n",
              "        vertical-align: middle;\n",
              "    }\n",
              "\n",
              "    .dataframe tbody tr th {\n",
              "        vertical-align: top;\n",
              "    }\n",
              "\n",
              "    .dataframe thead th {\n",
              "        text-align: right;\n",
              "    }\n",
              "</style>\n",
              "<table border=\"1\" class=\"dataframe\">\n",
              "  <thead>\n",
              "    <tr style=\"text-align: right;\">\n",
              "      <th></th>\n",
              "      <th>logit</th>\n",
              "      <th>ground_truth</th>\n",
              "      <th>patient_id</th>\n",
              "    </tr>\n",
              "  </thead>\n",
              "  <tbody>\n",
              "    <tr>\n",
              "      <th>0</th>\n",
              "      <td>0.205320</td>\n",
              "      <td>0.0</td>\n",
              "      <td>120563.0</td>\n",
              "    </tr>\n",
              "    <tr>\n",
              "      <th>1</th>\n",
              "      <td>0.213001</td>\n",
              "      <td>0.0</td>\n",
              "      <td>120563.0</td>\n",
              "    </tr>\n",
              "    <tr>\n",
              "      <th>2</th>\n",
              "      <td>0.224025</td>\n",
              "      <td>0.0</td>\n",
              "      <td>120563.0</td>\n",
              "    </tr>\n",
              "    <tr>\n",
              "      <th>3</th>\n",
              "      <td>0.244939</td>\n",
              "      <td>0.0</td>\n",
              "      <td>120563.0</td>\n",
              "    </tr>\n",
              "    <tr>\n",
              "      <th>4</th>\n",
              "      <td>0.270695</td>\n",
              "      <td>0.0</td>\n",
              "      <td>120563.0</td>\n",
              "    </tr>\n",
              "  </tbody>\n",
              "</table>\n",
              "</div>\n",
              "      <button class=\"colab-df-convert\" onclick=\"convertToInteractive('df-a67df09c-fc13-42fd-8128-6fe3658fd458')\"\n",
              "              title=\"Convert this dataframe to an interactive table.\"\n",
              "              style=\"display:none;\">\n",
              "        \n",
              "  <svg xmlns=\"http://www.w3.org/2000/svg\" height=\"24px\"viewBox=\"0 0 24 24\"\n",
              "       width=\"24px\">\n",
              "    <path d=\"M0 0h24v24H0V0z\" fill=\"none\"/>\n",
              "    <path d=\"M18.56 5.44l.94 2.06.94-2.06 2.06-.94-2.06-.94-.94-2.06-.94 2.06-2.06.94zm-11 1L8.5 8.5l.94-2.06 2.06-.94-2.06-.94L8.5 2.5l-.94 2.06-2.06.94zm10 10l.94 2.06.94-2.06 2.06-.94-2.06-.94-.94-2.06-.94 2.06-2.06.94z\"/><path d=\"M17.41 7.96l-1.37-1.37c-.4-.4-.92-.59-1.43-.59-.52 0-1.04.2-1.43.59L10.3 9.45l-7.72 7.72c-.78.78-.78 2.05 0 2.83L4 21.41c.39.39.9.59 1.41.59.51 0 1.02-.2 1.41-.59l7.78-7.78 2.81-2.81c.8-.78.8-2.07 0-2.86zM5.41 20L4 18.59l7.72-7.72 1.47 1.35L5.41 20z\"/>\n",
              "  </svg>\n",
              "      </button>\n",
              "      \n",
              "  <style>\n",
              "    .colab-df-container {\n",
              "      display:flex;\n",
              "      flex-wrap:wrap;\n",
              "      gap: 12px;\n",
              "    }\n",
              "\n",
              "    .colab-df-convert {\n",
              "      background-color: #E8F0FE;\n",
              "      border: none;\n",
              "      border-radius: 50%;\n",
              "      cursor: pointer;\n",
              "      display: none;\n",
              "      fill: #1967D2;\n",
              "      height: 32px;\n",
              "      padding: 0 0 0 0;\n",
              "      width: 32px;\n",
              "    }\n",
              "\n",
              "    .colab-df-convert:hover {\n",
              "      background-color: #E2EBFA;\n",
              "      box-shadow: 0px 1px 2px rgba(60, 64, 67, 0.3), 0px 1px 3px 1px rgba(60, 64, 67, 0.15);\n",
              "      fill: #174EA6;\n",
              "    }\n",
              "\n",
              "    [theme=dark] .colab-df-convert {\n",
              "      background-color: #3B4455;\n",
              "      fill: #D2E3FC;\n",
              "    }\n",
              "\n",
              "    [theme=dark] .colab-df-convert:hover {\n",
              "      background-color: #434B5C;\n",
              "      box-shadow: 0px 1px 3px 1px rgba(0, 0, 0, 0.15);\n",
              "      filter: drop-shadow(0px 1px 2px rgba(0, 0, 0, 0.3));\n",
              "      fill: #FFFFFF;\n",
              "    }\n",
              "  </style>\n",
              "\n",
              "      <script>\n",
              "        const buttonEl =\n",
              "          document.querySelector('#df-a67df09c-fc13-42fd-8128-6fe3658fd458 button.colab-df-convert');\n",
              "        buttonEl.style.display =\n",
              "          google.colab.kernel.accessAllowed ? 'block' : 'none';\n",
              "\n",
              "        async function convertToInteractive(key) {\n",
              "          const element = document.querySelector('#df-a67df09c-fc13-42fd-8128-6fe3658fd458');\n",
              "          const dataTable =\n",
              "            await google.colab.kernel.invokeFunction('convertToInteractive',\n",
              "                                                     [key], {});\n",
              "          if (!dataTable) return;\n",
              "\n",
              "          const docLinkHtml = 'Like what you see? Visit the ' +\n",
              "            '<a target=\"_blank\" href=https://colab.research.google.com/notebooks/data_table.ipynb>data table notebook</a>'\n",
              "            + ' to learn more about interactive tables.';\n",
              "          element.innerHTML = '';\n",
              "          dataTable['output_type'] = 'display_data';\n",
              "          await google.colab.output.renderOutput(dataTable, element);\n",
              "          const docLink = document.createElement('div');\n",
              "          docLink.innerHTML = docLinkHtml;\n",
              "          element.appendChild(docLink);\n",
              "        }\n",
              "      </script>\n",
              "    </div>\n",
              "  </div>\n",
              "  "
            ]
          },
          "metadata": {},
          "execution_count": 17
        }
      ]
    },
    {
      "cell_type": "code",
      "source": [
        "LSTM_prob = LSTM['logit']\n",
        "LSTM_actual = LSTM['ground_truth']\n",
        "LSTM_prediction = LSTM['logit'].apply(lambda x: 1 if x >= 0.5 else 0)\n",
        "LSTM_patients = LSTM['patient_id']"
      ],
      "metadata": {
        "id": "kR2PwN8Ckt3t"
      },
      "execution_count": null,
      "outputs": []
    },
    {
      "cell_type": "code",
      "source": [
        "#f1_score(test_y.astype('int'),predictions, average='macro')\n",
        "f1_score(LSTM_actual.astype('int'),LSTM_prediction, average='macro')"
      ],
      "metadata": {
        "colab": {
          "base_uri": "https://localhost:8080/"
        },
        "id": "rfariw8bV6am",
        "outputId": "625b7705-438f-400b-f87d-952eca630dce"
      },
      "execution_count": null,
      "outputs": [
        {
          "output_type": "execute_result",
          "data": {
            "text/plain": [
              "0.4635367391838924"
            ]
          },
          "metadata": {},
          "execution_count": 44
        }
      ]
    },
    {
      "cell_type": "code",
      "source": [
        "prediction_probabilities_test_set = clf.predict_proba(test_X)[:,1]"
      ],
      "metadata": {
        "id": "kvLb68b3GyaQ"
      },
      "execution_count": null,
      "outputs": []
    },
    {
      "cell_type": "code",
      "source": [
        "patient_ID = test_X['Patient_ID']\n",
        "prediction_df = pd.DataFrame({'Patient_ID': patient_ID, 'SepsisProb': prediction_probabilities_test_set})"
      ],
      "metadata": {
        "id": "hmyX1z2UHVOY"
      },
      "execution_count": null,
      "outputs": []
    },
    {
      "cell_type": "code",
      "source": [
        "# predictions for the dashboard\n",
        "prediction_df.to_csv('/content/drive/MyDrive/sepsis-prediction/test_set_prediction_probabilities_v2.csv', index=False)"
      ],
      "metadata": {
        "id": "k7S5U6upIJR0"
      },
      "execution_count": null,
      "outputs": []
    },
    {
      "cell_type": "code",
      "source": [
        "val_y = val_set['SepsisLabel']\n",
        "val_X = val_set.drop('SepsisLabel', axis = 1)\n",
        "val_X = val_set.fillna(-1000)"
      ],
      "metadata": {
        "id": "SANooarRMSdO"
      },
      "execution_count": null,
      "outputs": []
    },
    {
      "cell_type": "code",
      "source": [
        "val_X = val_X.drop('SepsisLabel',axis=1)"
      ],
      "metadata": {
        "id": "2aV7A_9LUU8V"
      },
      "execution_count": null,
      "outputs": []
    },
    {
      "cell_type": "code",
      "source": [
        "print(val_X.shape)\n",
        "print(train_X.shape)"
      ],
      "metadata": {
        "colab": {
          "base_uri": "https://localhost:8080/"
        },
        "id": "GnJmu8fcUpwb",
        "outputId": "978b8754-2596-4668-ff26-27ec8617b9e4"
      },
      "execution_count": null,
      "outputs": [
        {
          "output_type": "stream",
          "name": "stdout",
          "text": [
            "(377290, 315)\n",
            "(66206, 315)\n"
          ]
        }
      ]
    },
    {
      "cell_type": "code",
      "source": [
        "# Implementing U SCORE\n",
        "def compute_prediction_utility(labels, predictions, dt_early=-12, dt_optimal=-6, dt_late=3.0, max_u_tp=1, min_u_fn=-2, u_fp=-0.05, u_tn=0):\n",
        "    # Check inputs for errors.\n",
        "    # Does the patient eventually have sepsis?\n",
        "    if np.any(labels):\n",
        "        is_septic = True\n",
        "        t_sepsis = np.argmax(labels) - dt_optimal \n",
        "    else:\n",
        "        is_septic = False\n",
        "        t_sepsis = float('inf')\n",
        "\n",
        "    n = len(labels)\n",
        "\n",
        "    # Define slopes and intercept points for utility functions of the form\n",
        "    # u = m * t + b.\n",
        "    m_1 = float(max_u_tp) / float(dt_optimal - dt_early)\n",
        "    b_1 = -m_1 * dt_early\n",
        "    m_2 = float(-max_u_tp) / float(dt_late - dt_optimal)\n",
        "    b_2 = -m_2 * dt_late\n",
        "    m_3 = float(min_u_fn) / float(dt_late - dt_optimal)\n",
        "    b_3 = -m_3 * dt_optimal\n",
        "\n",
        "    # Compare predicted and true conditions.\n",
        "    u = np.zeros(n)\n",
        "    for t in range(n):\n",
        "        if t <= t_sepsis + dt_late:\n",
        "            # TP\n",
        "            if is_septic and predictions[t]:\n",
        "                if t <= t_sepsis + dt_optimal:\n",
        "                    u[t] = max(m_1 * (t - t_sepsis) + b_1, u_fp)\n",
        "                elif t <= t_sepsis + dt_late:\n",
        "                    u[t] = m_2 * (t - t_sepsis) + b_2\n",
        "            # FP\n",
        "            elif not is_septic and predictions[t]:\n",
        "                u[t] = u_fp\n",
        "            # FN\n",
        "            elif is_septic and not predictions[t]:\n",
        "                if t <= t_sepsis + dt_optimal:\n",
        "                    u[t] = 0\n",
        "                elif t <= t_sepsis + dt_late:\n",
        "                    u[t] = m_3 * (t - t_sepsis) + b_3\n",
        "            # TN\n",
        "            elif not is_septic and not predictions[t]:\n",
        "                u[t] = u_tn\n",
        "\n",
        "    # Find total utility for patient.\n",
        "    return np.sum(u)"
      ],
      "metadata": {
        "id": "dJlRCCbW911L"
      },
      "execution_count": null,
      "outputs": []
    },
    {
      "cell_type": "code",
      "source": [
        "def Uscore(y_pred, y_actual, X_actual,patientlabel):\n",
        "  # Group Patients by ID\n",
        "  val_y_withID = y_actual.to_frame().join(X_actual[patientlabel])\n",
        "  grouped = val_y_withID.groupby(patientlabel).groups\n",
        "  u_list=[]\n",
        "\n",
        "  # Initilalise Utilities\n",
        "  num_patients = val_y_withID[patientlabel].nunique()\n",
        "\n",
        "  observed_utilities = np.zeros(num_patients)\n",
        "  best_utilities = np.zeros(num_patients)\n",
        "  inaction_utilities = np.zeros(num_patients)\n",
        "\n",
        "  k = 0\n",
        "\n",
        "  for id, idx in grouped.items():\n",
        "    patient_actual = y_actual[idx[0]:idx[-1]+1]\n",
        "    patient_pred = y_pred[idx[0]:idx[-1]+1]\n",
        "\n",
        "    best_predictions = np.zeros(len(patient_actual))\n",
        "    inaction_predictions = np.zeros(len(patient_actual))\n",
        "\n",
        "    if np.any(patient_actual):\n",
        "      t_sepsis = np.argmax(patient_actual) + 6\n",
        "      best_predictions[max(0, t_sepsis - 12) : min(t_sepsis + 3 + 1, len(best_predictions))] = 1\n",
        "\n",
        "    \n",
        "    observed_utilities[k] = compute_prediction_utility(patient_actual,patient_pred)\n",
        "    best_utilities[k] = compute_prediction_utility(patient_actual,best_predictions)\n",
        "    inaction_utilities[k] = compute_prediction_utility(patient_actual, inaction_predictions)\n",
        "\n",
        "    k += 1 \n",
        "\n",
        "  unnormalized_observed_utility = np.sum(observed_utilities)\n",
        "  unnormalized_best_utility = np.sum(best_utilities)\n",
        "  unnormalized_inaction_utility = np.sum(inaction_utilities)\n",
        "\n",
        "  return (unnormalized_observed_utility - unnormalized_inaction_utility) / (unnormalized_best_utility - unnormalized_inaction_utility)"
      ],
      "metadata": {
        "id": "46EwL-s_-A54"
      },
      "execution_count": null,
      "outputs": []
    },
    {
      "cell_type": "code",
      "source": [
        "LSTM_prob = LSTM['logit']\n",
        "LSTM_actual = LSTM['ground_truth']\n",
        "LSTM_prediction = LSTM['logit'].apply(lambda x: 1 if x >= 0.5 else 0)\n",
        "LSTM_patients = LSTM['patient_id']"
      ],
      "metadata": {
        "id": "k5TOZhtGxAtp"
      },
      "execution_count": null,
      "outputs": []
    },
    {
      "cell_type": "code",
      "source": [
        "Uscore(predictions, test_y, test_X,'Patient_ID')"
      ],
      "metadata": {
        "id": "aWBm9Jf61ipp",
        "colab": {
          "base_uri": "https://localhost:8080/"
        },
        "outputId": "0322d89c-9b59-44ed-9a80-ff5fa02ca395"
      },
      "execution_count": null,
      "outputs": [
        {
          "output_type": "execute_result",
          "data": {
            "text/plain": [
              "0.37631200825846767"
            ]
          },
          "metadata": {},
          "execution_count": 33
        }
      ]
    },
    {
      "cell_type": "code",
      "source": [
        "# DO ROC AUC CURVE\n",
        "from sklearn.metrics import roc_curve, auc\n",
        "\n",
        "# # true labels\n",
        "# y_true = test_y\n",
        "\n",
        "# # predicted probabilities\n",
        "#y_pred = model.predict_proba(test_X)[:,1]\n",
        "\n",
        "# # calculate the FPR and TPR\n",
        "fprLSTM, tprLSTM, thresholdsLSTM = roc_curve(LSTM_actual, LSTM_prob)\n",
        "fprXG, tprXG, thresholdsXG = roc_curve(test_y, model.predict_proba(test_X)[:,1])\n",
        "fprRF, tprRF, thresholdsRF = roc_curve(test_y, clf.predict_proba(test_X)[:,1])\n",
        "# # # calculate the AUC (Area Under the Curve)\n",
        "roc_auc_LSTM = auc(fprLSTM, tprLSTM)\n",
        "roc_auc_XG = auc(fprXG, tprXG)\n",
        "roc_auc_RF = auc(fprRF, tprRF)\n",
        "# # plot the ROC curve\n",
        "fig, ax = plt.subplots(figsize=(9,4))\n",
        "ax.plot(fprLSTM, tprLSTM, label='Convolutional LSTM (AUC = %0.2f)' % roc_auc_LSTM,lw=2)\n",
        "ax.plot(fprXG, tprXG, label='XGBoost (AUC = %0.2f)' % roc_auc_XG,lw=2)\n",
        "ax.plot(fprRF, tprRF, label='Random Forest (AUC = %0.2f)' % roc_auc_RF,lw=2)\n",
        "ax.plot([0, 1], [0, 1], linestyle='--', color='grey', label='Random guess')\n",
        "ax.set_xlabel('False Positive Rate',fontsize=15)\n",
        "ax.set_ylabel('True Positive Rate',fontsize=15)\n",
        "\n",
        "ax.legend(loc=\"lower right\", fontsize=13)\n",
        "ax.grid(True)\n",
        "plt.savefig('roc_curve_xg_lstm.png', dpi=300,bbox_inches='tight')"
      ],
      "metadata": {
        "id": "2rXOav0f1jac",
        "colab": {
          "base_uri": "https://localhost:8080/",
          "height": 394
        },
        "outputId": "13b8e94f-b211-45d6-b4c4-5d592ad88e03"
      },
      "execution_count": null,
      "outputs": [
        {
          "output_type": "display_data",
          "data": {
            "text/plain": [
              "<Figure size 900x400 with 1 Axes>"
            ],
            "image/png": "[encoded data removed]"
          },
          "metadata": {}
        }
      ]
    },
    {
      "cell_type": "code",
      "source": [
        "print(roc_auc_XG)"
      ],
      "metadata": {
        "colab": {
          "base_uri": "https://localhost:8080/"
        },
        "id": "mVpV7EO75G9-",
        "outputId": "d527f902-55db-4381-b447-3e9ab92e25de"
      },
      "execution_count": null,
      "outputs": [
        {
          "output_type": "stream",
          "name": "stdout",
          "text": [
            "0.8543145233922547\n"
          ]
        }
      ]
    },
    {
      "cell_type": "code",
      "source": [
        "#Sepsis probability\n",
        "proba = clf.predict_proba(test_X)\n",
        "prob_sepsis = proba[:,1]\n"
      ],
      "metadata": {
        "id": "T9KTVZyEAUOM"
      },
      "execution_count": null,
      "outputs": []
    },
    {
      "cell_type": "code",
      "source": [
        "def accuracy_prior_to_prediction(X,y, model_type, label1, label2):  \n",
        "  combined_test_set = pd.concat([X, y],axis=1)\n",
        "  # group by patient ID\n",
        "  groups = combined_test_set.groupby(label1)\n",
        "\n",
        "\n",
        "  # iterate over groups\n",
        "  for name, group in groups:\n",
        "      # find the index of the first occurrence of 1\n",
        "      indices = group.index[group[label2] == 1].tolist()\n",
        "      if len(indices) > 0:\n",
        "        idx = indices[0]\n",
        "      \n",
        "        # assign 1 to the previous 6 rows, if available\n",
        "        if idx >= 6:\n",
        "            combined_test_set.loc[idx-6:idx-1, label2] = 1\n",
        "        else:\n",
        "            combined_test_set.loc[:idx-1, label2] = 1\n",
        "\n",
        "  modified = combined_test_set.copy()\n",
        "  counts = modified.groupby(label1)[label2].sum()\n",
        "  for patient, count in counts.items():\n",
        "      if count == 16:  # do nothing\n",
        "          continue\n",
        "      elif count == 0:  # do nothing\n",
        "          continue\n",
        "      else:\n",
        "          # find the index of the first occurrence of 1 in the patient's record\n",
        "          idx = modified.loc[modified[label1] == patient][label2].idxmax()\n",
        "\n",
        "          # modify the SepsisLabel column based on the number of 1s in the patient's record\n",
        "          modified.loc[idx, label2] = 16-count +1 \n",
        "  # initialize an empty dictionary to store the result\n",
        "  print(modified.groupby(label1)[label2].sum().value_counts().to_dict())\n",
        "  timeSepsis = modified.groupby(label1)[label2].cumsum()\n",
        "  f1_scores = []\n",
        "  for i in range(1,17):\n",
        "    #idx = timeSepsis.between(i,i+1)\n",
        "    idx=timeSepsis.loc[timeSepsis == i].index.tolist()\n",
        "    optimal_time = combined_test_set.loc[idx]\n",
        "    optimal_y = optimal_time[label2]\n",
        "    optimal_X = optimal_time.drop(label2, axis = 1)\n",
        "    if model_type == 'LSTM':\n",
        "      f1score = accuracy_score(optimal_y, LSTM_prediction.loc[idx].to_numpy())\n",
        "    else:\n",
        "      pred_op_y = model_type.predict(optimal_X)\n",
        "      f1score = f1_score(optimal_y, pred_op_y)\n",
        "    f1_scores.append(f1score)\n",
        "\n",
        "  return f1_scores"
      ],
      "metadata": {
        "id": "IEdh_GpHJVH4"
      },
      "execution_count": null,
      "outputs": []
    },
    {
      "cell_type": "code",
      "source": [
        "XGB_xx = accuracy_prior_to_prediction(test_X,test_y, model,'Patient_ID','SepsisLabel')\n",
        "RF_xx = accuracy_prior_to_prediction(test_X,test_y, clf, 'Patient_ID','SepsisLabel')\n",
        "LSTM_xx = accuracy_prior_to_prediction(LSTM_patients,LSTM_actual, 'LSTM', 'patient_id','ground_truth')"
      ],
      "metadata": {
        "colab": {
          "base_uri": "https://localhost:8080/"
        },
        "id": "GGjW9rglN1kF",
        "outputId": "cfd2342f-c78f-4832-a7c5-a939d3c46a06"
      },
      "execution_count": null,
      "outputs": [
        {
          "output_type": "stream",
          "name": "stdout",
          "text": [
            "{0: 9365, 16: 524}\n",
            "{0: 9365, 16: 524}\n",
            "{0.0: 8633, 16.0: 465}\n"
          ]
        },
        {
          "output_type": "stream",
          "name": "stderr",
          "text": [
            "/usr/local/lib/python3.10/dist-packages/numpy/lib/function_base.py:495: RuntimeWarning: Mean of empty slice.\n",
            "  avg = a.mean(axis)\n",
            "/usr/local/lib/python3.10/dist-packages/numpy/core/_methods.py:189: RuntimeWarning: invalid value encountered in double_scalars\n",
            "  ret = ret.dtype.type(ret / rcount)\n"
          ]
        }
      ]
    },
    {
      "cell_type": "code",
      "source": [
        "time = [k for k in range(-12,4)]\n",
        "\n",
        "fig, ax = plt.subplots(figsize=(10,4))\n",
        "ax.plot(time, XGB_xx,lw=2,label='XGBoost')\n",
        "ax.plot(time, RF_xx,lw=2,label='Random Forest')\n",
        "ax.plot(time, LSTM_xx,lw=2,label='Convolutional LSTM')\n",
        "ax.set_xlabel('Time from sepsis diagnosis (Hours)',fontsize=16)\n",
        "ax.set_ylabel('F1 Score',fontsize=16)\n",
        "ax.grid(True)\n",
        "ax.axvline(x=0,color='red',linestyle= '--')\n",
        "ax.axvline(x=-6,color='black',linestyle= '--')\n",
        "ax.text(0, 0.92, '$t_{sepsis}$', ha='center',fontsize=18)\n",
        "ax.text(-6, 0.92, '$t_{optimal}$', ha='center',fontsize=18)\n",
        "ax.legend(loc=\"upper left\",fontsize=14)\n",
        "plt.savefig('pred_accuracy.png', dpi=300,bbox_inches='tight')"
      ],
      "metadata": {
        "colab": {
          "base_uri": "https://localhost:8080/",
          "height": 428
        },
        "id": "Rl39OMqG_s0Y",
        "outputId": "ca8364f3-0752-445f-c07d-cef19270466b"
      },
      "execution_count": null,
      "outputs": [
        {
          "output_type": "display_data",
          "data": {
            "text/plain": [
              "<Figure size 1000x400 with 1 Axes>"
            ],
            "image/png": "[encoded data removed]"
          },
          "metadata": {}
        }
      ]
    },
    {
      "cell_type": "code",
      "source": [
        "print(timeSepsis)"
      ],
      "metadata": {
        "colab": {
          "base_uri": "https://localhost:8080/"
        },
        "id": "zrhZydaJAsSb",
        "outputId": "a2354bc6-05fa-4dd7-b38c-1ab43782e017"
      },
      "execution_count": null,
      "outputs": [
        {
          "output_type": "stream",
          "name": "stdout",
          "text": [
            "0         0\n",
            "1         0\n",
            "2         0\n",
            "3         0\n",
            "4         0\n",
            "         ..\n",
            "382816    0\n",
            "382817    0\n",
            "382818    0\n",
            "382819    0\n",
            "382820    0\n",
            "Name: SepsisLabel, Length: 382821, dtype: int64\n"
          ]
        }
      ]
    }
  ]
}