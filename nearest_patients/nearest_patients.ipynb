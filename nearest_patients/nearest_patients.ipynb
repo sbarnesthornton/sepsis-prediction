{
 "cells": [
  {
   "cell_type": "code",
   "execution_count": 1,
   "metadata": {},
   "outputs": [],
   "source": [
    "import pandas as pd\n",
    "import numpy as np"
   ]
  },
  {
   "cell_type": "code",
   "execution_count": 7,
   "metadata": {},
   "outputs": [],
   "source": [
    "data = pd.read_csv('../no_additional_features/test_set_interpolation_with_multivariate.csv').drop(['Hour', 'SepsisLabel'], axis=1)\n",
    "patients = data['Patient_ID'].unique()"
   ]
  },
  {
   "cell_type": "code",
   "execution_count": 52,
   "metadata": {},
   "outputs": [],
   "source": [
    "df_list = []\n",
    "for i in range(11):\n",
    "    df = pd.read_csv('neighbours_test_multivariate_split_' + str(i) + '.csv', index_col=0).T\n",
    "    df.columns = df.columns.astype(int)\n",
    "    df_list.append(df)"
   ]
  },
  {
   "cell_type": "code",
   "execution_count": 53,
   "metadata": {},
   "outputs": [],
   "source": [
    "full_df = pd.concat(df_list)"
   ]
  },
  {
   "cell_type": "code",
   "execution_count": 54,
   "metadata": {},
   "outputs": [
    {
     "data": {
      "text/plain": [
       "(9889, 9889)"
      ]
     },
     "execution_count": 54,
     "metadata": {},
     "output_type": "execute_result"
    }
   ],
   "source": [
    "full_df.shape"
   ]
  },
  {
   "cell_type": "code",
   "execution_count": 55,
   "metadata": {},
   "outputs": [
    {
     "data": {
      "text/html": [
       "<div>\n",
       "<style scoped>\n",
       "    .dataframe tbody tr th:only-of-type {\n",
       "        vertical-align: middle;\n",
       "    }\n",
       "\n",
       "    .dataframe tbody tr th {\n",
       "        vertical-align: top;\n",
       "    }\n",
       "\n",
       "    .dataframe thead th {\n",
       "        text-align: right;\n",
       "    }\n",
       "</style>\n",
       "<table border=\"1\" class=\"dataframe\">\n",
       "  <thead>\n",
       "    <tr style=\"text-align: right;\">\n",
       "      <th></th>\n",
       "      <th>130555</th>\n",
       "      <th>130556</th>\n",
       "      <th>130557</th>\n",
       "      <th>130558</th>\n",
       "      <th>130559</th>\n",
       "      <th>130561</th>\n",
       "      <th>130562</th>\n",
       "      <th>130563</th>\n",
       "      <th>130564</th>\n",
       "      <th>130565</th>\n",
       "      <th>...</th>\n",
       "      <th>140553</th>\n",
       "      <th>140554</th>\n",
       "      <th>140555</th>\n",
       "      <th>140556</th>\n",
       "      <th>140557</th>\n",
       "      <th>140558</th>\n",
       "      <th>140559</th>\n",
       "      <th>140560</th>\n",
       "      <th>140561</th>\n",
       "      <th>140562</th>\n",
       "    </tr>\n",
       "  </thead>\n",
       "  <tbody>\n",
       "    <tr>\n",
       "      <th>130555</th>\n",
       "      <td>NaN</td>\n",
       "      <td>196.518222</td>\n",
       "      <td>189.983549</td>\n",
       "      <td>409.875234</td>\n",
       "      <td>186.445139</td>\n",
       "      <td>194.510051</td>\n",
       "      <td>276.841878</td>\n",
       "      <td>150.564669</td>\n",
       "      <td>188.650702</td>\n",
       "      <td>178.356717</td>\n",
       "      <td>...</td>\n",
       "      <td>185.284069</td>\n",
       "      <td>162.017859</td>\n",
       "      <td>178.303792</td>\n",
       "      <td>1065.772652</td>\n",
       "      <td>175.904018</td>\n",
       "      <td>745.406880</td>\n",
       "      <td>160.324515</td>\n",
       "      <td>199.088915</td>\n",
       "      <td>187.214198</td>\n",
       "      <td>192.536998</td>\n",
       "    </tr>\n",
       "    <tr>\n",
       "      <th>130556</th>\n",
       "      <td>NaN</td>\n",
       "      <td>NaN</td>\n",
       "      <td>235.153772</td>\n",
       "      <td>395.217343</td>\n",
       "      <td>223.090446</td>\n",
       "      <td>211.341398</td>\n",
       "      <td>288.332182</td>\n",
       "      <td>189.871654</td>\n",
       "      <td>160.254142</td>\n",
       "      <td>200.985225</td>\n",
       "      <td>...</td>\n",
       "      <td>170.246990</td>\n",
       "      <td>242.739839</td>\n",
       "      <td>171.022860</td>\n",
       "      <td>1153.180577</td>\n",
       "      <td>173.447813</td>\n",
       "      <td>867.001164</td>\n",
       "      <td>196.835505</td>\n",
       "      <td>203.784613</td>\n",
       "      <td>213.535400</td>\n",
       "      <td>177.823377</td>\n",
       "    </tr>\n",
       "    <tr>\n",
       "      <th>130557</th>\n",
       "      <td>NaN</td>\n",
       "      <td>NaN</td>\n",
       "      <td>NaN</td>\n",
       "      <td>383.338423</td>\n",
       "      <td>106.663913</td>\n",
       "      <td>166.518680</td>\n",
       "      <td>185.701961</td>\n",
       "      <td>145.186763</td>\n",
       "      <td>170.076799</td>\n",
       "      <td>143.488515</td>\n",
       "      <td>...</td>\n",
       "      <td>146.432745</td>\n",
       "      <td>144.251475</td>\n",
       "      <td>146.715798</td>\n",
       "      <td>1110.827476</td>\n",
       "      <td>123.380728</td>\n",
       "      <td>786.848341</td>\n",
       "      <td>144.718282</td>\n",
       "      <td>152.061562</td>\n",
       "      <td>81.042039</td>\n",
       "      <td>136.093118</td>\n",
       "    </tr>\n",
       "    <tr>\n",
       "      <th>130558</th>\n",
       "      <td>NaN</td>\n",
       "      <td>NaN</td>\n",
       "      <td>NaN</td>\n",
       "      <td>NaN</td>\n",
       "      <td>372.033143</td>\n",
       "      <td>312.677477</td>\n",
       "      <td>399.969260</td>\n",
       "      <td>383.494401</td>\n",
       "      <td>310.071372</td>\n",
       "      <td>383.130922</td>\n",
       "      <td>...</td>\n",
       "      <td>320.979073</td>\n",
       "      <td>379.272444</td>\n",
       "      <td>372.445978</td>\n",
       "      <td>1124.621007</td>\n",
       "      <td>367.116253</td>\n",
       "      <td>832.612554</td>\n",
       "      <td>389.365722</td>\n",
       "      <td>332.403652</td>\n",
       "      <td>366.472155</td>\n",
       "      <td>374.299124</td>\n",
       "    </tr>\n",
       "    <tr>\n",
       "      <th>130559</th>\n",
       "      <td>NaN</td>\n",
       "      <td>NaN</td>\n",
       "      <td>NaN</td>\n",
       "      <td>NaN</td>\n",
       "      <td>NaN</td>\n",
       "      <td>120.442454</td>\n",
       "      <td>197.250844</td>\n",
       "      <td>126.635910</td>\n",
       "      <td>151.382808</td>\n",
       "      <td>126.117926</td>\n",
       "      <td>...</td>\n",
       "      <td>143.665414</td>\n",
       "      <td>131.760240</td>\n",
       "      <td>122.395771</td>\n",
       "      <td>1055.117774</td>\n",
       "      <td>134.822554</td>\n",
       "      <td>734.038748</td>\n",
       "      <td>146.660821</td>\n",
       "      <td>180.604537</td>\n",
       "      <td>105.692925</td>\n",
       "      <td>157.557476</td>\n",
       "    </tr>\n",
       "  </tbody>\n",
       "</table>\n",
       "<p>5 rows × 9889 columns</p>\n",
       "</div>"
      ],
      "text/plain": [
       "        130555      130556      130557      130558      130559      130561  \\\n",
       "130555     NaN  196.518222  189.983549  409.875234  186.445139  194.510051   \n",
       "130556     NaN         NaN  235.153772  395.217343  223.090446  211.341398   \n",
       "130557     NaN         NaN         NaN  383.338423  106.663913  166.518680   \n",
       "130558     NaN         NaN         NaN         NaN  372.033143  312.677477   \n",
       "130559     NaN         NaN         NaN         NaN         NaN  120.442454   \n",
       "\n",
       "            130562      130563      130564      130565  ...      140553  \\\n",
       "130555  276.841878  150.564669  188.650702  178.356717  ...  185.284069   \n",
       "130556  288.332182  189.871654  160.254142  200.985225  ...  170.246990   \n",
       "130557  185.701961  145.186763  170.076799  143.488515  ...  146.432745   \n",
       "130558  399.969260  383.494401  310.071372  383.130922  ...  320.979073   \n",
       "130559  197.250844  126.635910  151.382808  126.117926  ...  143.665414   \n",
       "\n",
       "            140554      140555       140556      140557      140558  \\\n",
       "130555  162.017859  178.303792  1065.772652  175.904018  745.406880   \n",
       "130556  242.739839  171.022860  1153.180577  173.447813  867.001164   \n",
       "130557  144.251475  146.715798  1110.827476  123.380728  786.848341   \n",
       "130558  379.272444  372.445978  1124.621007  367.116253  832.612554   \n",
       "130559  131.760240  122.395771  1055.117774  134.822554  734.038748   \n",
       "\n",
       "            140559      140560      140561      140562  \n",
       "130555  160.324515  199.088915  187.214198  192.536998  \n",
       "130556  196.835505  203.784613  213.535400  177.823377  \n",
       "130557  144.718282  152.061562   81.042039  136.093118  \n",
       "130558  389.365722  332.403652  366.472155  374.299124  \n",
       "130559  146.660821  180.604537  105.692925  157.557476  \n",
       "\n",
       "[5 rows x 9889 columns]"
      ]
     },
     "execution_count": 55,
     "metadata": {},
     "output_type": "execute_result"
    }
   ],
   "source": [
    "full_df.head()"
   ]
  },
  {
   "cell_type": "code",
   "execution_count": 60,
   "metadata": {},
   "outputs": [],
   "source": [
    "full_df.index = full_df.index.astype(int)"
   ]
  },
  {
   "cell_type": "code",
   "execution_count": 66,
   "metadata": {},
   "outputs": [
    {
     "data": {
      "text/plain": [
       "nan"
      ]
     },
     "execution_count": 66,
     "metadata": {},
     "output_type": "execute_result"
    }
   ],
   "source": [
    "full_df.loc[140554, 130559]"
   ]
  },
  {
   "cell_type": "code",
   "execution_count": 94,
   "metadata": {},
   "outputs": [
    {
     "name": "stdout",
     "output_type": "stream",
     "text": [
      "131000\n",
      "132000\n",
      "133000\n",
      "134000\n",
      "135000\n",
      "136000\n",
      "137000\n",
      "138000\n",
      "139000\n",
      "140000\n"
     ]
    }
   ],
   "source": [
    "for p in patients:\n",
    "    if int(p) % 1000 == 0:\n",
    "        print(p)\n",
    "    for p_1 in patients:\n",
    "        if pd.isna(full_df.at[int(p), int(p_1)]) and p != p_1:\n",
    "            full_df.at[int(p), int(p_1)] = full_df.at[int(p_1), int(p)]"
   ]
  },
  {
   "cell_type": "code",
   "execution_count": 97,
   "metadata": {},
   "outputs": [],
   "source": [
    "full_df.to_csv('full_nearest_neighbours_test_mutlivariate.csv')"
   ]
  },
  {
   "cell_type": "code",
   "execution_count": 3,
   "metadata": {},
   "outputs": [],
   "source": [
    "full_df = pd.read_csv('full_nearest_neighbours_test_mutlivariate.csv', index_col=0)\n",
    "full_df.columns = full_df.columns.astype(int)\n",
    "full_df.index = full_df.index.astype(int)"
   ]
  },
  {
   "cell_type": "code",
   "execution_count": 4,
   "metadata": {},
   "outputs": [
    {
     "data": {
      "text/html": [
       "<div>\n",
       "<style scoped>\n",
       "    .dataframe tbody tr th:only-of-type {\n",
       "        vertical-align: middle;\n",
       "    }\n",
       "\n",
       "    .dataframe tbody tr th {\n",
       "        vertical-align: top;\n",
       "    }\n",
       "\n",
       "    .dataframe thead th {\n",
       "        text-align: right;\n",
       "    }\n",
       "</style>\n",
       "<table border=\"1\" class=\"dataframe\">\n",
       "  <thead>\n",
       "    <tr style=\"text-align: right;\">\n",
       "      <th></th>\n",
       "      <th>130555</th>\n",
       "      <th>130556</th>\n",
       "      <th>130557</th>\n",
       "      <th>130558</th>\n",
       "      <th>130559</th>\n",
       "      <th>130561</th>\n",
       "      <th>130562</th>\n",
       "      <th>130563</th>\n",
       "      <th>130564</th>\n",
       "      <th>130565</th>\n",
       "      <th>...</th>\n",
       "      <th>140553</th>\n",
       "      <th>140554</th>\n",
       "      <th>140555</th>\n",
       "      <th>140556</th>\n",
       "      <th>140557</th>\n",
       "      <th>140558</th>\n",
       "      <th>140559</th>\n",
       "      <th>140560</th>\n",
       "      <th>140561</th>\n",
       "      <th>140562</th>\n",
       "    </tr>\n",
       "  </thead>\n",
       "  <tbody>\n",
       "    <tr>\n",
       "      <th>130555</th>\n",
       "      <td>NaN</td>\n",
       "      <td>196.518222</td>\n",
       "      <td>189.983549</td>\n",
       "      <td>409.875234</td>\n",
       "      <td>186.445139</td>\n",
       "      <td>194.510051</td>\n",
       "      <td>276.841878</td>\n",
       "      <td>150.564669</td>\n",
       "      <td>188.650702</td>\n",
       "      <td>178.356717</td>\n",
       "      <td>...</td>\n",
       "      <td>185.284069</td>\n",
       "      <td>162.017859</td>\n",
       "      <td>178.303792</td>\n",
       "      <td>1065.772652</td>\n",
       "      <td>175.904018</td>\n",
       "      <td>745.406880</td>\n",
       "      <td>160.324515</td>\n",
       "      <td>199.088915</td>\n",
       "      <td>187.214198</td>\n",
       "      <td>192.536998</td>\n",
       "    </tr>\n",
       "    <tr>\n",
       "      <th>130556</th>\n",
       "      <td>196.518222</td>\n",
       "      <td>NaN</td>\n",
       "      <td>235.153772</td>\n",
       "      <td>395.217343</td>\n",
       "      <td>223.090446</td>\n",
       "      <td>211.341398</td>\n",
       "      <td>288.332182</td>\n",
       "      <td>189.871654</td>\n",
       "      <td>160.254142</td>\n",
       "      <td>200.985225</td>\n",
       "      <td>...</td>\n",
       "      <td>170.246990</td>\n",
       "      <td>242.739839</td>\n",
       "      <td>171.022860</td>\n",
       "      <td>1153.180577</td>\n",
       "      <td>173.447813</td>\n",
       "      <td>867.001164</td>\n",
       "      <td>196.835505</td>\n",
       "      <td>203.784613</td>\n",
       "      <td>213.535400</td>\n",
       "      <td>177.823377</td>\n",
       "    </tr>\n",
       "    <tr>\n",
       "      <th>130557</th>\n",
       "      <td>189.983549</td>\n",
       "      <td>235.153772</td>\n",
       "      <td>NaN</td>\n",
       "      <td>383.338423</td>\n",
       "      <td>106.663913</td>\n",
       "      <td>166.518680</td>\n",
       "      <td>185.701961</td>\n",
       "      <td>145.186763</td>\n",
       "      <td>170.076799</td>\n",
       "      <td>143.488515</td>\n",
       "      <td>...</td>\n",
       "      <td>146.432745</td>\n",
       "      <td>144.251475</td>\n",
       "      <td>146.715798</td>\n",
       "      <td>1110.827476</td>\n",
       "      <td>123.380728</td>\n",
       "      <td>786.848341</td>\n",
       "      <td>144.718282</td>\n",
       "      <td>152.061562</td>\n",
       "      <td>81.042039</td>\n",
       "      <td>136.093118</td>\n",
       "    </tr>\n",
       "    <tr>\n",
       "      <th>130558</th>\n",
       "      <td>409.875234</td>\n",
       "      <td>395.217343</td>\n",
       "      <td>383.338423</td>\n",
       "      <td>NaN</td>\n",
       "      <td>372.033143</td>\n",
       "      <td>312.677477</td>\n",
       "      <td>399.969260</td>\n",
       "      <td>383.494401</td>\n",
       "      <td>310.071372</td>\n",
       "      <td>383.130922</td>\n",
       "      <td>...</td>\n",
       "      <td>320.979073</td>\n",
       "      <td>379.272444</td>\n",
       "      <td>372.445978</td>\n",
       "      <td>1124.621007</td>\n",
       "      <td>367.116253</td>\n",
       "      <td>832.612554</td>\n",
       "      <td>389.365722</td>\n",
       "      <td>332.403652</td>\n",
       "      <td>366.472155</td>\n",
       "      <td>374.299124</td>\n",
       "    </tr>\n",
       "    <tr>\n",
       "      <th>130559</th>\n",
       "      <td>186.445139</td>\n",
       "      <td>223.090446</td>\n",
       "      <td>106.663913</td>\n",
       "      <td>372.033143</td>\n",
       "      <td>NaN</td>\n",
       "      <td>120.442454</td>\n",
       "      <td>197.250844</td>\n",
       "      <td>126.635910</td>\n",
       "      <td>151.382808</td>\n",
       "      <td>126.117926</td>\n",
       "      <td>...</td>\n",
       "      <td>143.665414</td>\n",
       "      <td>131.760240</td>\n",
       "      <td>122.395771</td>\n",
       "      <td>1055.117774</td>\n",
       "      <td>134.822554</td>\n",
       "      <td>734.038748</td>\n",
       "      <td>146.660821</td>\n",
       "      <td>180.604537</td>\n",
       "      <td>105.692925</td>\n",
       "      <td>157.557476</td>\n",
       "    </tr>\n",
       "  </tbody>\n",
       "</table>\n",
       "<p>5 rows × 9889 columns</p>\n",
       "</div>"
      ],
      "text/plain": [
       "            130555      130556      130557      130558      130559  \\\n",
       "130555         NaN  196.518222  189.983549  409.875234  186.445139   \n",
       "130556  196.518222         NaN  235.153772  395.217343  223.090446   \n",
       "130557  189.983549  235.153772         NaN  383.338423  106.663913   \n",
       "130558  409.875234  395.217343  383.338423         NaN  372.033143   \n",
       "130559  186.445139  223.090446  106.663913  372.033143         NaN   \n",
       "\n",
       "            130561      130562      130563      130564      130565  ...  \\\n",
       "130555  194.510051  276.841878  150.564669  188.650702  178.356717  ...   \n",
       "130556  211.341398  288.332182  189.871654  160.254142  200.985225  ...   \n",
       "130557  166.518680  185.701961  145.186763  170.076799  143.488515  ...   \n",
       "130558  312.677477  399.969260  383.494401  310.071372  383.130922  ...   \n",
       "130559  120.442454  197.250844  126.635910  151.382808  126.117926  ...   \n",
       "\n",
       "            140553      140554      140555       140556      140557  \\\n",
       "130555  185.284069  162.017859  178.303792  1065.772652  175.904018   \n",
       "130556  170.246990  242.739839  171.022860  1153.180577  173.447813   \n",
       "130557  146.432745  144.251475  146.715798  1110.827476  123.380728   \n",
       "130558  320.979073  379.272444  372.445978  1124.621007  367.116253   \n",
       "130559  143.665414  131.760240  122.395771  1055.117774  134.822554   \n",
       "\n",
       "            140558      140559      140560      140561      140562  \n",
       "130555  745.406880  160.324515  199.088915  187.214198  192.536998  \n",
       "130556  867.001164  196.835505  203.784613  213.535400  177.823377  \n",
       "130557  786.848341  144.718282  152.061562   81.042039  136.093118  \n",
       "130558  832.612554  389.365722  332.403652  366.472155  374.299124  \n",
       "130559  734.038748  146.660821  180.604537  105.692925  157.557476  \n",
       "\n",
       "[5 rows x 9889 columns]"
      ]
     },
     "execution_count": 4,
     "metadata": {},
     "output_type": "execute_result"
    }
   ],
   "source": [
    "full_df.head()"
   ]
  },
  {
   "cell_type": "code",
   "execution_count": 5,
   "metadata": {},
   "outputs": [
    {
     "data": {
      "text/plain": [
       "136381    79.119155\n",
       "131767    79.718840\n",
       "140527    94.974947\n",
       "139160    95.978235\n",
       "137699    97.601049\n",
       "Name: 130556, dtype: float64"
      ]
     },
     "execution_count": 5,
     "metadata": {},
     "output_type": "execute_result"
    }
   ],
   "source": [
    "full_df.nsmallest(5, 130556)[130556]"
   ]
  },
  {
   "cell_type": "code",
   "execution_count": 8,
   "metadata": {},
   "outputs": [],
   "source": [
    "nearest_patients_df = {}\n",
    "for p in patients[:5]:\n",
    "    if int(p) % 100 == 0:\n",
    "        print(p)\n",
    "    nearest_patients_df[p] = full_df.nsmallest(5, p)[p].index.tolist()"
   ]
  },
  {
   "cell_type": "code",
   "execution_count": 9,
   "metadata": {},
   "outputs": [],
   "source": [
    "nearest_patients_df = pd.DataFrame.from_dict(nearest_patients_df)"
   ]
  },
  {
   "cell_type": "code",
   "execution_count": 11,
   "metadata": {},
   "outputs": [],
   "source": [
    "nearest_patients_df.to_csv('nearest_neighbours_efficient.csv')"
   ]
  },
  {
   "cell_type": "code",
   "execution_count": 6,
   "metadata": {},
   "outputs": [
    {
     "data": {
      "text/plain": [
       "[140134, 137834, 133039, 135788, 137230]"
      ]
     },
     "execution_count": 6,
     "metadata": {},
     "output_type": "execute_result"
    }
   ],
   "source": [
    "df = pd.read_csv('nearest_neighbours_efficient.csv', index_col=0)\n",
    "df['130555'].tolist()"
   ]
  },
  {
   "cell_type": "code",
   "execution_count": null,
   "metadata": {},
   "outputs": [],
   "source": []
  }
 ],
 "metadata": {
  "kernelspec": {
   "display_name": "Python 3",
   "language": "python",
   "name": "python3"
  },
  "language_info": {
   "codemirror_mode": {
    "name": "ipython",
    "version": 3
   },
   "file_extension": ".py",
   "mimetype": "text/x-python",
   "name": "python",
   "nbconvert_exporter": "python",
   "pygments_lexer": "ipython3",
   "version": "3.8.10"
  },
  "orig_nbformat": 4
 },
 "nbformat": 4,
 "nbformat_minor": 2
}
