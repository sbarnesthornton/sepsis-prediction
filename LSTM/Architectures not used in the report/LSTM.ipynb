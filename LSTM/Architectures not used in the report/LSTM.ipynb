{
  "nbformat": 4,
  "nbformat_minor": 0,
  "metadata": {
    "colab": {
      "provenance": []
    },
    "kernelspec": {
      "name": "python3",
      "display_name": "Python 3"
    },
    "language_info": {
      "name": "python"
    }
  },
  "cells": [
    {
      "cell_type": "code",
      "source": [
        "from google.colab import drive\n",
        "drive.mount('/content/drive')"
      ],
      "metadata": {
        "colab": {
          "base_uri": "https://localhost:8080/"
        },
        "id": "qP7-X4OlLGTG",
        "outputId": "950382d5-c82d-4222-9830-125a7a95c108"
      },
      "execution_count": null,
      "outputs": [
        {
          "output_type": "stream",
          "name": "stdout",
          "text": [
            "Drive already mounted at /content/drive; to attempt to forcibly remount, call drive.mount(\"/content/drive\", force_remount=True).\n"
          ]
        }
      ]
    },
    {
      "cell_type": "code",
      "execution_count": null,
      "metadata": {
        "id": "kTscFLz_4K1e"
      },
      "outputs": [],
      "source": [
        "import numpy as np\n",
        "import tensorflow as tf\n",
        "from sklearn.preprocessing import MinMaxScaler\n",
        "\n",
        "import matplotlib.pyplot as plt\n",
        "import sklearn as skm\n",
        "%matplotlib inline"
      ]
    },
    {
      "cell_type": "code",
      "source": [
        "from sklearn.utils import resample\n",
        "import math\n",
        "import pandas as pd\n",
        "\n",
        "def balance_patient(df_patient,max_patient_stay):\n",
        "    values = df_patient.SepsisLabel.value_counts()\n",
        "    if values.shape[0]<=1:\n",
        "      return\n",
        "\n",
        "    if values[1] > int(sum(values)/2) and values[0]!=0 and sum(values)<max_patient_stay:\n",
        "      df_minority = df_patient[df_patient.SepsisLabel==0]\n",
        "      df_majority = df_patient[df_patient.SepsisLabel==1]\n",
        "    elif values[1] <= int(sum(values)/2) and values[0]!=0 and sum(values)<max_patient_stay:\n",
        "      df_minority = df_patient[df_patient.SepsisLabel==1]\n",
        "      df_majority = df_patient[df_patient.SepsisLabel==0]\n",
        "    else:\n",
        "      return None\n",
        "    df_minority_upsampled = resample(df_minority, \n",
        "                                 replace=True,     # sample with replacement\n",
        "                                 n_samples=max_patient_stay,    # to match majority class\n",
        "                                 random_state=123) # reproducible results\n",
        "\n",
        "    return pd.concat([df_majority, df_minority_upsampled])\n",
        "\n",
        "\n",
        "def get_patient_df(df,patient_ID):\n",
        "    return df[df.Patient_ID==patient_ID]\n",
        "\n",
        "\n",
        "def import_data(filename):\n",
        "    return pd.read_csv(filename)\n",
        "\n",
        "\n",
        "def get_max_patient_stay(df):\n",
        "    return np.max(df.Patient_ID.value_counts())\n",
        "\n",
        "\n",
        "\n",
        "def create_ts_data(dataset, lookback, predicted_col):\n",
        "    temp=dataset.copy()\n",
        "    temp[\"id\"]= range(1, len(temp)+1)\n",
        "    temp = temp.iloc[:-lookback, :]\n",
        "    temp.set_index('id', inplace =True)\n",
        "    predicted_value=dataset.copy()\n",
        "    predicted_value = predicted_value.iloc[lookback:,predicted_col]\n",
        "    predicted_value.columns=[\"Predicted\"]\n",
        "    predicted_value= pd.DataFrame(predicted_value)\n",
        "    \n",
        "    predicted_value[\"id\"]= range(1, len(predicted_value)+1)\n",
        "    predicted_value.set_index('id', inplace =True)\n",
        "    final_df= pd.concat([temp, predicted_value], axis=1)\n",
        "    #final_df.columns = ['var1(t-1)', 'var2(t-1)', 'var3(t-1)', 'var4(t-1)', 'var5(t-1)', 'var6(t-1)', 'var7(t-1)', 'var8(t-1)','var1(t)']\n",
        "    #final_df.set_index('Date', inplace=True)\n",
        "    return final_df\n",
        "\n",
        "\n",
        "def normalise_data(df):\n",
        "    df_values = df.values\n",
        "    # ensure all data is float\n",
        "    df_values = df_values.astype('float32') \n",
        "    # normalizing input features\n",
        "    scaler = MinMaxScaler(feature_range=(0, 1))\n",
        "    df_scaled = scaler.fit_transform(df_values)\n",
        "    # Refit to dataframe\n",
        "    return pd.DataFrame(df_scaled)\n",
        "\n",
        "\n",
        "def make_3d_df(num_patients, max_patient_stay,num_features):\n",
        "    # Create a MultiIndex with three levels\n",
        "    index = pd.MultiIndex.from_product([range(num_patients), range(max_patient_stay), range(num_features)], names=['sample', 'time_step', 'feature'])\n",
        "\n",
        "    # Create an empty 3D DataFrame with the MultiIndex\n",
        "    return pd.DataFrame(index=index, columns=['value']), index\n",
        "\n",
        "\n",
        "def build_3d_ts_df(df):\n",
        "    max_patient_stay = get_max_patient_stay(df)\n",
        "    final_data,index = make_3d_df(max(df.Patient_ID.unique()),max_patient_stay,df.shape[0])\n",
        "\n",
        "    for patient in df.Patient_ID.unique():\n",
        "      patient_data = get_patient_df(df, patient)\n",
        "      patient_data = balance_patient(patient_data, max_patient_stay)\n",
        "      if patient_data is None:\n",
        "        continue\n",
        "      patient_data = create_ts_data(dataset=df, lookback=1, predicted_col=df.columns.get_loc(\"SepsisLabel\"))\n",
        "\n",
        "      patient_data = normalise_data(patient_data)\n",
        "\n",
        "      X, y = patient_data[:, :-1], patient_data[:, -1]\n",
        "\n",
        "      new_df = pd.DataFrame(X.reshape(-1, 1), index=index[patient*max_patient_stay*df.shape[0]:(patient+1)*max_patient_stay*df.shape[0]], columns=['value'])\n",
        "      final_data = final_data.append(new_df)\n",
        "    return final_data"
      ],
      "metadata": {
        "id": "LS4_inzjpBKr"
      },
      "execution_count": null,
      "outputs": []
    },
    {
      "cell_type": "code",
      "source": [
        "# file = '/content/drive/MyDrive/DataScience/project/no_additional_features.zip (Unzipped Files)/train_set_interpolation_with_constant.csv'\n",
        "file = '/content/drive/MyDrive/DataScience/project/no_additional_features.zip (Unzipped Files)/train_set_interpolation_with_multivariate.csv'\n",
        "df = import_data(file)"
      ],
      "metadata": {
        "id": "vlQ-_Us9zjqJ"
      },
      "execution_count": null,
      "outputs": []
    },
    {
      "cell_type": "code",
      "source": [
        "from keras.models import Sequential\n",
        "from keras.layers import Dense,LSTM, Dropout\n",
        "model_lstm = Sequential()\n",
        "model_lstm.add(LSTM(20,activation='tanh', return_sequences=True,input_shape=(get_max_patient_stay(df), 32)))\n",
        "model_lstm.add(LSTM(20, return_sequences=True))\n",
        "model_lstm.add(Dropout(0.2))\n",
        "model_lstm.add(LSTM(6))\n",
        "model_lstm.add(Dense(1))\n",
        "\n",
        "model_lstm.compile(loss='mse', optimizer='adam')\n",
        "model_lstm.summary()"
      ],
      "metadata": {
        "colab": {
          "base_uri": "https://localhost:8080/"
        },
        "id": "rnlzUZE43P_U",
        "outputId": "aad6a07b-31c8-4718-b391-09ad04e8ced1"
      },
      "execution_count": null,
      "outputs": [
        {
          "output_type": "stream",
          "name": "stdout",
          "text": [
            "Model: \"sequential_1\"\n",
            "_________________________________________________________________\n",
            " Layer (type)                Output Shape              Param #   \n",
            "=================================================================\n",
            " lstm (LSTM)                 (None, 336, 20)           4240      \n",
            "                                                                 \n",
            " lstm_1 (LSTM)               (None, 336, 20)           3280      \n",
            "                                                                 \n",
            " dropout (Dropout)           (None, 336, 20)           0         \n",
            "                                                                 \n",
            " lstm_2 (LSTM)               (None, 6)                 648       \n",
            "                                                                 \n",
            " dense (Dense)               (None, 1)                 7         \n",
            "                                                                 \n",
            "=================================================================\n",
            "Total params: 8,175\n",
            "Trainable params: 8,175\n",
            "Non-trainable params: 0\n",
            "_________________________________________________________________\n"
          ]
        }
      ]
    },
    {
      "cell_type": "code",
      "source": [
        "max_patient_stay = get_max_patient_stay(df)\n",
        "# final_data,index = make_3d_df(max(df.Patient_ID.unique()),max_patient_stay,df.shape[0])\n",
        "\n",
        "epochs = 3000\n",
        "for epochs in range(epochs):\n",
        "  for patient in df.Patient_ID.unique():\n",
        "    patient_data = get_patient_df(df, patient)\n",
        "    patient_data = balance_patient(patient_data, max_patient_stay)\n",
        "    if patient_data is None:\n",
        "      continue\n",
        "    patient_data = create_ts_data(dataset=df, lookback=1, predicted_col=df.columns.get_loc(\"SepsisLabel\"))\n",
        "\n",
        "    patient_data = normalise_data(patient_data)\n",
        "    print(patient_data)\n",
        "    X, y = patient_data[:, :-1], patient_data[:, -1]\n",
        "\n",
        "    new_df = pd.DataFrame(X.reshape(-1, 1), index=index[patient*max_patient_stay*df.shape[0]:(patient+1)*max_patient_stay*df.shape[0]], columns=['value'])\n",
        "    final_data = final_data.append(new_df)\n",
        "    lstm_history = model_lstm.fit(X, y, epochs=10, batch_size=64, shuffle=False)\n",
        "\n",
        "\n",
        "\n",
        "    "
      ],
      "metadata": {
        "colab": {
          "base_uri": "https://localhost:8080/",
          "height": 1000
        },
        "id": "icKGkkxvnffp",
        "outputId": "346bc76f-7c3b-4864-b7d9-b8ec399c171c"
      },
      "execution_count": null,
      "outputs": [
        {
          "output_type": "stream",
          "name": "stdout",
          "text": [
            "              0         1         2         3         4         5         6   \\\n",
            "0       0.237702  0.963153  0.745470  0.289356  0.197987  0.269297  0.264399   \n",
            "1       0.296154  0.936752  0.745535  0.222231  0.197607  0.272714  0.264706   \n",
            "2       0.265385  0.986712  0.747515  0.292409  0.235714  0.289365  0.308824   \n",
            "3       0.269231  0.936752  0.738503  0.292409  0.245232  0.302151  0.426471   \n",
            "4       0.319231  0.855567  0.745326  0.292409  0.254750  0.310713  0.345588   \n",
            "...          ...       ...       ...       ...       ...       ...       ...   \n",
            "792093  0.234615  0.952365  0.736398  0.479551  0.382143  0.409196  0.286765   \n",
            "792094  0.284615  0.942997  0.739915  0.350891  0.235714  0.300681  0.205882   \n",
            "792095  0.146154  0.999202  0.743433  0.350891  0.250000  0.324796  0.235294   \n",
            "792096  0.167308  0.999202  0.746951  0.264630  0.221429  0.297667  0.235294   \n",
            "792097  0.215385  0.999202  0.750469  0.479551  0.342857  0.366996  0.205882   \n",
            "\n",
            "              7         8         9   ...        28        29        30   31  \\\n",
            "0       0.243108  0.483154  0.286803  ...  0.028515  0.214247  0.796867  0.0   \n",
            "1       0.238748  0.478546  0.289123  ...  0.030745  0.213170  0.796867  0.0   \n",
            "2       0.243196  0.478828  0.286710  ...  0.028993  0.216788  0.796867  0.0   \n",
            "3       0.424242  0.965916  0.288914  ...  0.019528  0.277922  0.796867  0.0   \n",
            "4       0.423160  0.959231  0.269839  ...  0.020449  0.272950  0.796867  0.0   \n",
            "...          ...       ...       ...  ...       ...       ...       ...  ...   \n",
            "792093  0.263774  0.528117  0.286709  ...  0.016793  0.259613  0.204819  1.0   \n",
            "792094  0.260855  0.537096  0.286108  ...  0.016793  0.259613  0.204819  1.0   \n",
            "792095  0.261988  0.527927  0.284062  ...  0.016793  0.259613  0.204819  1.0   \n",
            "792096  0.260337  0.527870  0.284754  ...  0.016793  0.259613  0.204819  1.0   \n",
            "792097  0.264909  0.528108  0.282431  ...  0.016793  0.259613  0.204819  1.0   \n",
            "\n",
            "              32        33        34   35   36   37  \n",
            "0       0.000000  0.993568  0.000000  0.0  0.0  0.0  \n",
            "1       0.002985  0.993568  0.002985  0.0  0.0  0.0  \n",
            "2       0.005970  0.993568  0.005970  0.0  0.0  0.0  \n",
            "3       0.008955  0.993568  0.008955  0.0  0.0  0.0  \n",
            "4       0.011940  0.993568  0.011940  0.0  0.0  0.0  \n",
            "...          ...       ...       ...  ...  ...  ...  \n",
            "792093  0.005970  0.993558  0.005970  1.0  1.0  1.0  \n",
            "792094  0.008955  0.993558  0.008955  1.0  1.0  1.0  \n",
            "792095  0.011940  0.993558  0.011940  1.0  1.0  1.0  \n",
            "792096  0.014925  0.993558  0.014925  1.0  1.0  1.0  \n",
            "792097  0.017910  0.993558  0.017910  1.0  1.0  1.0  \n",
            "\n",
            "[792098 rows x 38 columns]\n"
          ]
        },
        {
          "output_type": "error",
          "ename": "InvalidIndexError",
          "evalue": "ignored",
          "traceback": [
            "\u001b[0;31m---------------------------------------------------------------------------\u001b[0m",
            "\u001b[0;31mInvalidIndexError\u001b[0m                         Traceback (most recent call last)",
            "\u001b[0;32m<ipython-input-9-5f9c2e7ed3bd>\u001b[0m in \u001b[0;36m<cell line: 5>\u001b[0;34m()\u001b[0m\n\u001b[1;32m     13\u001b[0m     \u001b[0mpatient_data\u001b[0m \u001b[0;34m=\u001b[0m \u001b[0mnormalise_data\u001b[0m\u001b[0;34m(\u001b[0m\u001b[0mpatient_data\u001b[0m\u001b[0;34m)\u001b[0m\u001b[0;34m\u001b[0m\u001b[0;34m\u001b[0m\u001b[0m\n\u001b[1;32m     14\u001b[0m     \u001b[0mprint\u001b[0m\u001b[0;34m(\u001b[0m\u001b[0mpatient_data\u001b[0m\u001b[0;34m)\u001b[0m\u001b[0;34m\u001b[0m\u001b[0;34m\u001b[0m\u001b[0m\n\u001b[0;32m---> 15\u001b[0;31m     \u001b[0mX\u001b[0m\u001b[0;34m,\u001b[0m \u001b[0my\u001b[0m \u001b[0;34m=\u001b[0m \u001b[0mpatient_data\u001b[0m\u001b[0;34m[\u001b[0m\u001b[0;34m:\u001b[0m\u001b[0;34m,\u001b[0m \u001b[0;34m:\u001b[0m\u001b[0;34m-\u001b[0m\u001b[0;36m1\u001b[0m\u001b[0;34m]\u001b[0m\u001b[0;34m,\u001b[0m \u001b[0mpatient_data\u001b[0m\u001b[0;34m[\u001b[0m\u001b[0;34m:\u001b[0m\u001b[0;34m,\u001b[0m \u001b[0;34m-\u001b[0m\u001b[0;36m1\u001b[0m\u001b[0;34m]\u001b[0m\u001b[0;34m\u001b[0m\u001b[0;34m\u001b[0m\u001b[0m\n\u001b[0m\u001b[1;32m     16\u001b[0m \u001b[0;34m\u001b[0m\u001b[0m\n\u001b[1;32m     17\u001b[0m     \u001b[0mnew_df\u001b[0m \u001b[0;34m=\u001b[0m \u001b[0mpd\u001b[0m\u001b[0;34m.\u001b[0m\u001b[0mDataFrame\u001b[0m\u001b[0;34m(\u001b[0m\u001b[0mX\u001b[0m\u001b[0;34m.\u001b[0m\u001b[0mreshape\u001b[0m\u001b[0;34m(\u001b[0m\u001b[0;34m-\u001b[0m\u001b[0;36m1\u001b[0m\u001b[0;34m,\u001b[0m \u001b[0;36m1\u001b[0m\u001b[0;34m)\u001b[0m\u001b[0;34m,\u001b[0m \u001b[0mindex\u001b[0m\u001b[0;34m=\u001b[0m\u001b[0mindex\u001b[0m\u001b[0;34m[\u001b[0m\u001b[0mpatient\u001b[0m\u001b[0;34m*\u001b[0m\u001b[0mmax_patient_stay\u001b[0m\u001b[0;34m*\u001b[0m\u001b[0mdf\u001b[0m\u001b[0;34m.\u001b[0m\u001b[0mshape\u001b[0m\u001b[0;34m[\u001b[0m\u001b[0;36m0\u001b[0m\u001b[0;34m]\u001b[0m\u001b[0;34m:\u001b[0m\u001b[0;34m(\u001b[0m\u001b[0mpatient\u001b[0m\u001b[0;34m+\u001b[0m\u001b[0;36m1\u001b[0m\u001b[0;34m)\u001b[0m\u001b[0;34m*\u001b[0m\u001b[0mmax_patient_stay\u001b[0m\u001b[0;34m*\u001b[0m\u001b[0mdf\u001b[0m\u001b[0;34m.\u001b[0m\u001b[0mshape\u001b[0m\u001b[0;34m[\u001b[0m\u001b[0;36m0\u001b[0m\u001b[0;34m]\u001b[0m\u001b[0;34m]\u001b[0m\u001b[0;34m,\u001b[0m \u001b[0mcolumns\u001b[0m\u001b[0;34m=\u001b[0m\u001b[0;34m[\u001b[0m\u001b[0;34m'value'\u001b[0m\u001b[0;34m]\u001b[0m\u001b[0;34m)\u001b[0m\u001b[0;34m\u001b[0m\u001b[0;34m\u001b[0m\u001b[0m\n",
            "\u001b[0;32m/usr/local/lib/python3.9/dist-packages/pandas/core/frame.py\u001b[0m in \u001b[0;36m__getitem__\u001b[0;34m(self, key)\u001b[0m\n\u001b[1;32m   3805\u001b[0m             \u001b[0;32mif\u001b[0m \u001b[0mself\u001b[0m\u001b[0;34m.\u001b[0m\u001b[0mcolumns\u001b[0m\u001b[0;34m.\u001b[0m\u001b[0mnlevels\u001b[0m \u001b[0;34m>\u001b[0m \u001b[0;36m1\u001b[0m\u001b[0;34m:\u001b[0m\u001b[0;34m\u001b[0m\u001b[0;34m\u001b[0m\u001b[0m\n\u001b[1;32m   3806\u001b[0m                 \u001b[0;32mreturn\u001b[0m \u001b[0mself\u001b[0m\u001b[0;34m.\u001b[0m\u001b[0m_getitem_multilevel\u001b[0m\u001b[0;34m(\u001b[0m\u001b[0mkey\u001b[0m\u001b[0;34m)\u001b[0m\u001b[0;34m\u001b[0m\u001b[0;34m\u001b[0m\u001b[0m\n\u001b[0;32m-> 3807\u001b[0;31m             \u001b[0mindexer\u001b[0m \u001b[0;34m=\u001b[0m \u001b[0mself\u001b[0m\u001b[0;34m.\u001b[0m\u001b[0mcolumns\u001b[0m\u001b[0;34m.\u001b[0m\u001b[0mget_loc\u001b[0m\u001b[0;34m(\u001b[0m\u001b[0mkey\u001b[0m\u001b[0;34m)\u001b[0m\u001b[0;34m\u001b[0m\u001b[0;34m\u001b[0m\u001b[0m\n\u001b[0m\u001b[1;32m   3808\u001b[0m             \u001b[0;32mif\u001b[0m \u001b[0mis_integer\u001b[0m\u001b[0;34m(\u001b[0m\u001b[0mindexer\u001b[0m\u001b[0;34m)\u001b[0m\u001b[0;34m:\u001b[0m\u001b[0;34m\u001b[0m\u001b[0;34m\u001b[0m\u001b[0m\n\u001b[1;32m   3809\u001b[0m                 \u001b[0mindexer\u001b[0m \u001b[0;34m=\u001b[0m \u001b[0;34m[\u001b[0m\u001b[0mindexer\u001b[0m\u001b[0;34m]\u001b[0m\u001b[0;34m\u001b[0m\u001b[0;34m\u001b[0m\u001b[0m\n",
            "\u001b[0;32m/usr/local/lib/python3.9/dist-packages/pandas/core/indexes/range.py\u001b[0m in \u001b[0;36mget_loc\u001b[0;34m(self, key, method, tolerance)\u001b[0m\n\u001b[1;32m    392\u001b[0m                 \u001b[0;32mexcept\u001b[0m \u001b[0mValueError\u001b[0m \u001b[0;32mas\u001b[0m \u001b[0merr\u001b[0m\u001b[0;34m:\u001b[0m\u001b[0;34m\u001b[0m\u001b[0;34m\u001b[0m\u001b[0m\n\u001b[1;32m    393\u001b[0m                     \u001b[0;32mraise\u001b[0m \u001b[0mKeyError\u001b[0m\u001b[0;34m(\u001b[0m\u001b[0mkey\u001b[0m\u001b[0;34m)\u001b[0m \u001b[0;32mfrom\u001b[0m \u001b[0merr\u001b[0m\u001b[0;34m\u001b[0m\u001b[0;34m\u001b[0m\u001b[0m\n\u001b[0;32m--> 394\u001b[0;31m             \u001b[0mself\u001b[0m\u001b[0;34m.\u001b[0m\u001b[0m_check_indexing_error\u001b[0m\u001b[0;34m(\u001b[0m\u001b[0mkey\u001b[0m\u001b[0;34m)\u001b[0m\u001b[0;34m\u001b[0m\u001b[0;34m\u001b[0m\u001b[0m\n\u001b[0m\u001b[1;32m    395\u001b[0m             \u001b[0;32mraise\u001b[0m \u001b[0mKeyError\u001b[0m\u001b[0;34m(\u001b[0m\u001b[0mkey\u001b[0m\u001b[0;34m)\u001b[0m\u001b[0;34m\u001b[0m\u001b[0;34m\u001b[0m\u001b[0m\n\u001b[1;32m    396\u001b[0m         \u001b[0;32mreturn\u001b[0m \u001b[0msuper\u001b[0m\u001b[0;34m(\u001b[0m\u001b[0;34m)\u001b[0m\u001b[0;34m.\u001b[0m\u001b[0mget_loc\u001b[0m\u001b[0;34m(\u001b[0m\u001b[0mkey\u001b[0m\u001b[0;34m,\u001b[0m \u001b[0mmethod\u001b[0m\u001b[0;34m=\u001b[0m\u001b[0mmethod\u001b[0m\u001b[0;34m,\u001b[0m \u001b[0mtolerance\u001b[0m\u001b[0;34m=\u001b[0m\u001b[0mtolerance\u001b[0m\u001b[0;34m)\u001b[0m\u001b[0;34m\u001b[0m\u001b[0;34m\u001b[0m\u001b[0m\n",
            "\u001b[0;32m/usr/local/lib/python3.9/dist-packages/pandas/core/indexes/base.py\u001b[0m in \u001b[0;36m_check_indexing_error\u001b[0;34m(self, key)\u001b[0m\n\u001b[1;32m   5923\u001b[0m             \u001b[0;31m# if key is not a scalar, directly raise an error (the code below\u001b[0m\u001b[0;34m\u001b[0m\u001b[0;34m\u001b[0m\u001b[0m\n\u001b[1;32m   5924\u001b[0m             \u001b[0;31m# would convert to numpy arrays and raise later any way) - GH29926\u001b[0m\u001b[0;34m\u001b[0m\u001b[0;34m\u001b[0m\u001b[0m\n\u001b[0;32m-> 5925\u001b[0;31m             \u001b[0;32mraise\u001b[0m \u001b[0mInvalidIndexError\u001b[0m\u001b[0;34m(\u001b[0m\u001b[0mkey\u001b[0m\u001b[0;34m)\u001b[0m\u001b[0;34m\u001b[0m\u001b[0;34m\u001b[0m\u001b[0m\n\u001b[0m\u001b[1;32m   5926\u001b[0m \u001b[0;34m\u001b[0m\u001b[0m\n\u001b[1;32m   5927\u001b[0m     \u001b[0;34m@\u001b[0m\u001b[0mcache_readonly\u001b[0m\u001b[0;34m\u001b[0m\u001b[0;34m\u001b[0m\u001b[0m\n",
            "\u001b[0;31mInvalidIndexError\u001b[0m: (slice(None, None, None), slice(None, -1, None))"
          ]
        }
      ]
    },
    {
      "cell_type": "code",
      "source": [],
      "metadata": {
        "id": "P_Qlf0B5r4q5"
      },
      "execution_count": null,
      "outputs": []
    }
  ]
}